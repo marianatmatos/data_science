{
  "nbformat": 4,
  "nbformat_minor": 0,
  "metadata": {
    "colab": {
      "name": "customer_churn_prediction.ipynb",
      "provenance": [],
      "collapsed_sections": [],
      "authorship_tag": "ABX9TyPIDdyts/QkvPjuPsiAEsoV",
      "include_colab_link": true
    },
    "kernelspec": {
      "name": "python3",
      "display_name": "Python 3"
    },
    "language_info": {
      "name": "python"
    }
  },
  "cells": [
    {
      "cell_type": "markdown",
      "metadata": {
        "id": "view-in-github",
        "colab_type": "text"
      },
      "source": [
        "<a href=\"https://colab.research.google.com/github/marianatmatos/data_science/blob/main/notebooks/customer_churn_prediction.ipynb\" target=\"_parent\"><img src=\"https://colab.research.google.com/assets/colab-badge.svg\" alt=\"Open In Colab\"/></a>"
      ]
    },
    {
      "cell_type": "markdown",
      "metadata": {
        "id": "sZyxi0TPtBSe"
      },
      "source": [
        "# **Customer Churn Prediction**"
      ]
    },
    {
      "cell_type": "markdown",
      "metadata": {
        "id": "S0TuYMcer3xt"
      },
      "source": [
        "[![LinkedIn](https://img.shields.io/badge/linkedIn-MarianaMatos-blue.svg)](https://www.linkedin.com/in/mariana-matos-3ba384175/)\n",
        "[![GitHub](https://img.shields.io/badge/GitHub-marianatmatos-green.svg)](https://github.com/marianatmatos)\n",
        "[![](https://img.shields.io/badge/Medium-marianatmatos-blueviolet)](https://marianatmatos.medium.com/)\n",
        "\n",
        "<p align=\"center\">\n",
        "  <img  height=\"300\" src=\"http://blog.phonetrack.com.br/wp-content/uploads/2018/11/churn-rate-blog.png\" >\n",
        "</p>\n",
        "\n"
      ]
    },
    {
      "cell_type": "markdown",
      "metadata": {
        "id": "tgyADOc054Rb"
      },
      "source": [
        "## **The Problem**\n",
        "\n",
        "Customer churn is one of the most important business metrics. A financial term that refers to the loss of a client that is, when a customer ceases to interact with a company or service. The full cost of customer churn includes both lost revenue and the marketing costs involved with replacing those customers with new ones. In other words, the cost of acquiring a new customer is significantly higher than retaining an existing one.\n",
        "\n",
        "If we could figure out why a customer leaves and when they leave with reasonable accuracy, it would immensely help the organization to strategize their retention initiatives.\n",
        "\n",
        "As a result, churn is one of the most important elements in the Key Performance Indicator (KPI) of a product or service. A full customer lifecycle analysis requires taking a look at retention rates in order to better understand the health of the business or product. "
      ]
    },
    {
      "cell_type": "markdown",
      "metadata": {
        "id": "Me0djMXqdHj1"
      },
      "source": [
        "## **The Strategy**\n",
        "\n",
        "This analysis focuses on the behavior of telecom customers who are more likely to leave the services. The goal is find out the most remarkable behavior of customers through Exploratory Data Analysis and Feature Engineering then apply supervised machine learning algorithms and try to predic the customers who are most likely to churn."
      ]
    },
    {
      "cell_type": "markdown",
      "metadata": {
        "id": "kCVNOchp0dy3"
      },
      "source": [
        "## **The Data**\n",
        "\n",
        "The data used in this project is available on [Kaggle](https://www.kaggle.com/blastchar/telco-customer-churn) platform, and deal with a typical problem for a telecom companies. This is known as a binary classification problem, where you have only two possible values for the dependent variable in this case, a customer either leaves the telecom service or doesn't.\n",
        "Given that we have data on current and prior customer transactions in the telecom dataset, this is a standardized supervised classification problem that tries to predict a binary outcome (Y/N).\n",
        "\n"
      ]
    },
    {
      "cell_type": "code",
      "metadata": {
        "id": "SN3LPdtifRTi",
        "colab": {
          "base_uri": "https://localhost:8080/"
        },
        "outputId": "abc7d72f-b8f8-4832-f087-a8b143c1276f"
      },
      "source": [
        "# Import necessarie libraries\n",
        "import pandas as pd\n",
        "import numpy as np\n",
        "import matplotlib.pyplot as plt\n",
        "import matplotlib.ticker as mtick\n",
        "import seaborn as sns\n",
        "import time\n",
        "\n",
        "from sklearn.preprocessing import LabelEncoder\n",
        "from statsmodels.stats.outliers_influence import variance_inflation_factor\n",
        "from sklearn.model_selection import train_test_split\n",
        "from sklearn.preprocessing import StandardScaler\n",
        "\n",
        "import warnings\n",
        "warnings.filterwarnings(\"ignore\")\n",
        "%matplotlib inline"
      ],
      "execution_count": 1,
      "outputs": [
        {
          "output_type": "stream",
          "text": [
            "/usr/local/lib/python3.7/dist-packages/statsmodels/tools/_testing.py:19: FutureWarning: pandas.util.testing is deprecated. Use the functions in the public API at pandas.testing instead.\n",
            "  import pandas.util.testing as tm\n"
          ],
          "name": "stderr"
        }
      ]
    },
    {
      "cell_type": "markdown",
      "metadata": {
        "id": "Jy9Bg40xysWd"
      },
      "source": [
        "## **Data Pre-processing**\n",
        "\n",
        "At this step we take a closer look at the dataset structure to better  understanding the input data. "
      ]
    },
    {
      "cell_type": "code",
      "metadata": {
        "colab": {
          "base_uri": "https://localhost:8080/",
          "height": 309
        },
        "id": "2fRbzCFZvxnS",
        "outputId": "2e3c56cc-9095-4178-ff7e-5c2650fc6f2a"
      },
      "source": [
        "PATH = 'https://raw.githubusercontent.com/marianatmatos/data_science/main/datasets/customer_churn_data.csv'\n",
        "df = pd.read_csv(PATH)\n",
        "df.head()"
      ],
      "execution_count": 2,
      "outputs": [
        {
          "output_type": "execute_result",
          "data": {
            "text/html": [
              "<div>\n",
              "<style scoped>\n",
              "    .dataframe tbody tr th:only-of-type {\n",
              "        vertical-align: middle;\n",
              "    }\n",
              "\n",
              "    .dataframe tbody tr th {\n",
              "        vertical-align: top;\n",
              "    }\n",
              "\n",
              "    .dataframe thead th {\n",
              "        text-align: right;\n",
              "    }\n",
              "</style>\n",
              "<table border=\"1\" class=\"dataframe\">\n",
              "  <thead>\n",
              "    <tr style=\"text-align: right;\">\n",
              "      <th></th>\n",
              "      <th>customerID</th>\n",
              "      <th>gender</th>\n",
              "      <th>SeniorCitizen</th>\n",
              "      <th>Partner</th>\n",
              "      <th>Dependents</th>\n",
              "      <th>tenure</th>\n",
              "      <th>PhoneService</th>\n",
              "      <th>MultipleLines</th>\n",
              "      <th>InternetService</th>\n",
              "      <th>OnlineSecurity</th>\n",
              "      <th>OnlineBackup</th>\n",
              "      <th>DeviceProtection</th>\n",
              "      <th>TechSupport</th>\n",
              "      <th>StreamingTV</th>\n",
              "      <th>StreamingMovies</th>\n",
              "      <th>Contract</th>\n",
              "      <th>PaperlessBilling</th>\n",
              "      <th>PaymentMethod</th>\n",
              "      <th>MonthlyCharges</th>\n",
              "      <th>TotalCharges</th>\n",
              "      <th>Churn</th>\n",
              "    </tr>\n",
              "  </thead>\n",
              "  <tbody>\n",
              "    <tr>\n",
              "      <th>0</th>\n",
              "      <td>7590-VHVEG</td>\n",
              "      <td>Female</td>\n",
              "      <td>0</td>\n",
              "      <td>Yes</td>\n",
              "      <td>No</td>\n",
              "      <td>1</td>\n",
              "      <td>No</td>\n",
              "      <td>No phone service</td>\n",
              "      <td>DSL</td>\n",
              "      <td>No</td>\n",
              "      <td>Yes</td>\n",
              "      <td>No</td>\n",
              "      <td>No</td>\n",
              "      <td>No</td>\n",
              "      <td>No</td>\n",
              "      <td>Month-to-month</td>\n",
              "      <td>Yes</td>\n",
              "      <td>Electronic check</td>\n",
              "      <td>29.85</td>\n",
              "      <td>29.85</td>\n",
              "      <td>No</td>\n",
              "    </tr>\n",
              "    <tr>\n",
              "      <th>1</th>\n",
              "      <td>5575-GNVDE</td>\n",
              "      <td>Male</td>\n",
              "      <td>0</td>\n",
              "      <td>No</td>\n",
              "      <td>No</td>\n",
              "      <td>34</td>\n",
              "      <td>Yes</td>\n",
              "      <td>No</td>\n",
              "      <td>DSL</td>\n",
              "      <td>Yes</td>\n",
              "      <td>No</td>\n",
              "      <td>Yes</td>\n",
              "      <td>No</td>\n",
              "      <td>No</td>\n",
              "      <td>No</td>\n",
              "      <td>One year</td>\n",
              "      <td>No</td>\n",
              "      <td>Mailed check</td>\n",
              "      <td>56.95</td>\n",
              "      <td>1889.5</td>\n",
              "      <td>No</td>\n",
              "    </tr>\n",
              "    <tr>\n",
              "      <th>2</th>\n",
              "      <td>3668-QPYBK</td>\n",
              "      <td>Male</td>\n",
              "      <td>0</td>\n",
              "      <td>No</td>\n",
              "      <td>No</td>\n",
              "      <td>2</td>\n",
              "      <td>Yes</td>\n",
              "      <td>No</td>\n",
              "      <td>DSL</td>\n",
              "      <td>Yes</td>\n",
              "      <td>Yes</td>\n",
              "      <td>No</td>\n",
              "      <td>No</td>\n",
              "      <td>No</td>\n",
              "      <td>No</td>\n",
              "      <td>Month-to-month</td>\n",
              "      <td>Yes</td>\n",
              "      <td>Mailed check</td>\n",
              "      <td>53.85</td>\n",
              "      <td>108.15</td>\n",
              "      <td>Yes</td>\n",
              "    </tr>\n",
              "    <tr>\n",
              "      <th>3</th>\n",
              "      <td>7795-CFOCW</td>\n",
              "      <td>Male</td>\n",
              "      <td>0</td>\n",
              "      <td>No</td>\n",
              "      <td>No</td>\n",
              "      <td>45</td>\n",
              "      <td>No</td>\n",
              "      <td>No phone service</td>\n",
              "      <td>DSL</td>\n",
              "      <td>Yes</td>\n",
              "      <td>No</td>\n",
              "      <td>Yes</td>\n",
              "      <td>Yes</td>\n",
              "      <td>No</td>\n",
              "      <td>No</td>\n",
              "      <td>One year</td>\n",
              "      <td>No</td>\n",
              "      <td>Bank transfer (automatic)</td>\n",
              "      <td>42.30</td>\n",
              "      <td>1840.75</td>\n",
              "      <td>No</td>\n",
              "    </tr>\n",
              "    <tr>\n",
              "      <th>4</th>\n",
              "      <td>9237-HQITU</td>\n",
              "      <td>Female</td>\n",
              "      <td>0</td>\n",
              "      <td>No</td>\n",
              "      <td>No</td>\n",
              "      <td>2</td>\n",
              "      <td>Yes</td>\n",
              "      <td>No</td>\n",
              "      <td>Fiber optic</td>\n",
              "      <td>No</td>\n",
              "      <td>No</td>\n",
              "      <td>No</td>\n",
              "      <td>No</td>\n",
              "      <td>No</td>\n",
              "      <td>No</td>\n",
              "      <td>Month-to-month</td>\n",
              "      <td>Yes</td>\n",
              "      <td>Electronic check</td>\n",
              "      <td>70.70</td>\n",
              "      <td>151.65</td>\n",
              "      <td>Yes</td>\n",
              "    </tr>\n",
              "  </tbody>\n",
              "</table>\n",
              "</div>"
            ],
            "text/plain": [
              "   customerID  gender  SeniorCitizen  ... MonthlyCharges TotalCharges  Churn\n",
              "0  7590-VHVEG  Female              0  ...          29.85        29.85     No\n",
              "1  5575-GNVDE    Male              0  ...          56.95       1889.5     No\n",
              "2  3668-QPYBK    Male              0  ...          53.85       108.15    Yes\n",
              "3  7795-CFOCW    Male              0  ...          42.30      1840.75     No\n",
              "4  9237-HQITU  Female              0  ...          70.70       151.65    Yes\n",
              "\n",
              "[5 rows x 21 columns]"
            ]
          },
          "metadata": {
            "tags": []
          },
          "execution_count": 2
        }
      ]
    },
    {
      "cell_type": "code",
      "metadata": {
        "colab": {
          "base_uri": "https://localhost:8080/"
        },
        "id": "cjMWSNLXwYqF",
        "outputId": "e5886090-4d48-4deb-dbf0-b469ed22f1f5"
      },
      "source": [
        "df.info()"
      ],
      "execution_count": 3,
      "outputs": [
        {
          "output_type": "stream",
          "text": [
            "<class 'pandas.core.frame.DataFrame'>\n",
            "RangeIndex: 7043 entries, 0 to 7042\n",
            "Data columns (total 21 columns):\n",
            " #   Column            Non-Null Count  Dtype  \n",
            "---  ------            --------------  -----  \n",
            " 0   customerID        7043 non-null   object \n",
            " 1   gender            7043 non-null   object \n",
            " 2   SeniorCitizen     7043 non-null   int64  \n",
            " 3   Partner           7043 non-null   object \n",
            " 4   Dependents        7043 non-null   object \n",
            " 5   tenure            7043 non-null   int64  \n",
            " 6   PhoneService      7043 non-null   object \n",
            " 7   MultipleLines     7043 non-null   object \n",
            " 8   InternetService   7043 non-null   object \n",
            " 9   OnlineSecurity    7043 non-null   object \n",
            " 10  OnlineBackup      7043 non-null   object \n",
            " 11  DeviceProtection  7043 non-null   object \n",
            " 12  TechSupport       7043 non-null   object \n",
            " 13  StreamingTV       7043 non-null   object \n",
            " 14  StreamingMovies   7043 non-null   object \n",
            " 15  Contract          7043 non-null   object \n",
            " 16  PaperlessBilling  7043 non-null   object \n",
            " 17  PaymentMethod     7043 non-null   object \n",
            " 18  MonthlyCharges    7043 non-null   float64\n",
            " 19  TotalCharges      7043 non-null   object \n",
            " 20  Churn             7043 non-null   object \n",
            "dtypes: float64(1), int64(2), object(18)\n",
            "memory usage: 1.1+ MB\n"
          ],
          "name": "stdout"
        }
      ]
    },
    {
      "cell_type": "code",
      "metadata": {
        "colab": {
          "base_uri": "https://localhost:8080/",
          "height": 294
        },
        "id": "9gvGPWoawdCz",
        "outputId": "84461260-bd1d-4f4d-9554-4cf931fc0fb6"
      },
      "source": [
        "# Look at numerical variables statistcs\n",
        "df.describe()"
      ],
      "execution_count": 4,
      "outputs": [
        {
          "output_type": "execute_result",
          "data": {
            "text/html": [
              "<div>\n",
              "<style scoped>\n",
              "    .dataframe tbody tr th:only-of-type {\n",
              "        vertical-align: middle;\n",
              "    }\n",
              "\n",
              "    .dataframe tbody tr th {\n",
              "        vertical-align: top;\n",
              "    }\n",
              "\n",
              "    .dataframe thead th {\n",
              "        text-align: right;\n",
              "    }\n",
              "</style>\n",
              "<table border=\"1\" class=\"dataframe\">\n",
              "  <thead>\n",
              "    <tr style=\"text-align: right;\">\n",
              "      <th></th>\n",
              "      <th>SeniorCitizen</th>\n",
              "      <th>tenure</th>\n",
              "      <th>MonthlyCharges</th>\n",
              "    </tr>\n",
              "  </thead>\n",
              "  <tbody>\n",
              "    <tr>\n",
              "      <th>count</th>\n",
              "      <td>7043.000000</td>\n",
              "      <td>7043.000000</td>\n",
              "      <td>7043.000000</td>\n",
              "    </tr>\n",
              "    <tr>\n",
              "      <th>mean</th>\n",
              "      <td>0.162147</td>\n",
              "      <td>32.371149</td>\n",
              "      <td>64.761692</td>\n",
              "    </tr>\n",
              "    <tr>\n",
              "      <th>std</th>\n",
              "      <td>0.368612</td>\n",
              "      <td>24.559481</td>\n",
              "      <td>30.090047</td>\n",
              "    </tr>\n",
              "    <tr>\n",
              "      <th>min</th>\n",
              "      <td>0.000000</td>\n",
              "      <td>0.000000</td>\n",
              "      <td>18.250000</td>\n",
              "    </tr>\n",
              "    <tr>\n",
              "      <th>25%</th>\n",
              "      <td>0.000000</td>\n",
              "      <td>9.000000</td>\n",
              "      <td>35.500000</td>\n",
              "    </tr>\n",
              "    <tr>\n",
              "      <th>50%</th>\n",
              "      <td>0.000000</td>\n",
              "      <td>29.000000</td>\n",
              "      <td>70.350000</td>\n",
              "    </tr>\n",
              "    <tr>\n",
              "      <th>75%</th>\n",
              "      <td>0.000000</td>\n",
              "      <td>55.000000</td>\n",
              "      <td>89.850000</td>\n",
              "    </tr>\n",
              "    <tr>\n",
              "      <th>max</th>\n",
              "      <td>1.000000</td>\n",
              "      <td>72.000000</td>\n",
              "      <td>118.750000</td>\n",
              "    </tr>\n",
              "  </tbody>\n",
              "</table>\n",
              "</div>"
            ],
            "text/plain": [
              "       SeniorCitizen       tenure  MonthlyCharges\n",
              "count    7043.000000  7043.000000     7043.000000\n",
              "mean        0.162147    32.371149       64.761692\n",
              "std         0.368612    24.559481       30.090047\n",
              "min         0.000000     0.000000       18.250000\n",
              "25%         0.000000     9.000000       35.500000\n",
              "50%         0.000000    29.000000       70.350000\n",
              "75%         0.000000    55.000000       89.850000\n",
              "max         1.000000    72.000000      118.750000"
            ]
          },
          "metadata": {
            "tags": []
          },
          "execution_count": 4
        }
      ]
    },
    {
      "cell_type": "markdown",
      "metadata": {
        "id": "9zqmcWLBwNo9"
      },
      "source": [
        "Let's take a look at our dataset and the numerical variables statistics. So we have 21 columns including our target variable **Churn**. \n",
        "\n",
        "The dataset contains numerical and categorical columns providing much information on the customer transactions. The dataset contains 7043 rows and 21 columns and there seem to be no missing values in the dataset.\n",
        "\n",
        "A quick look at describe() method we can see that customers are paying an average of $65 per month and staying for 32 months."
      ]
    },
    {
      "cell_type": "code",
      "metadata": {
        "colab": {
          "base_uri": "https://localhost:8080/"
        },
        "id": "7IZGUqBb0LCp",
        "outputId": "efb27479-e4f6-4341-bbe3-7f331558c8da"
      },
      "source": [
        "# Check if there is missing data\n",
        "df.isna().value_counts()"
      ],
      "execution_count": 5,
      "outputs": [
        {
          "output_type": "execute_result",
          "data": {
            "text/plain": [
              "customerID  gender  SeniorCitizen  Partner  Dependents  tenure  PhoneService  MultipleLines  InternetService  OnlineSecurity  OnlineBackup  DeviceProtection  TechSupport  StreamingTV  StreamingMovies  Contract  PaperlessBilling  PaymentMethod  MonthlyCharges  TotalCharges  Churn\n",
              "False       False   False          False    False       False   False         False          False            False           False         False             False        False        False            False     False             False          False           False         False    7043\n",
              "dtype: int64"
            ]
          },
          "metadata": {
            "tags": []
          },
          "execution_count": 5
        }
      ]
    },
    {
      "cell_type": "markdown",
      "metadata": {
        "id": "wNb0tgRE0gFs"
      },
      "source": [
        "Now we are sure that there is no value missing and can move on to the next step: identify unique values"
      ]
    },
    {
      "cell_type": "markdown",
      "metadata": {
        "id": "17V6o-8R4A_C"
      },
      "source": [
        "### Identify unique values"
      ]
    },
    {
      "cell_type": "code",
      "metadata": {
        "colab": {
          "base_uri": "https://localhost:8080/"
        },
        "id": "Ndogsrh47fAP",
        "outputId": "50f1f391-a562-4ff1-e639-dfadde515f94"
      },
      "source": [
        "df.nunique()"
      ],
      "execution_count": 6,
      "outputs": [
        {
          "output_type": "execute_result",
          "data": {
            "text/plain": [
              "customerID          7043\n",
              "gender                 2\n",
              "SeniorCitizen          2\n",
              "Partner                2\n",
              "Dependents             2\n",
              "tenure                73\n",
              "PhoneService           2\n",
              "MultipleLines          3\n",
              "InternetService        3\n",
              "OnlineSecurity         3\n",
              "OnlineBackup           3\n",
              "DeviceProtection       3\n",
              "TechSupport            3\n",
              "StreamingTV            3\n",
              "StreamingMovies        3\n",
              "Contract               3\n",
              "PaperlessBilling       2\n",
              "PaymentMethod          4\n",
              "MonthlyCharges      1585\n",
              "TotalCharges        6531\n",
              "Churn                  2\n",
              "dtype: int64"
            ]
          },
          "metadata": {
            "tags": []
          },
          "execution_count": 6
        }
      ]
    },
    {
      "cell_type": "markdown",
      "metadata": {
        "id": "LEl5up729ElM"
      },
      "source": [
        "We can ignore for now 'CustomerID' - because all customers have different IDs and that's not going to influence the results - 'MonthlyCharges', 'TotalCharges' and the variables with only two unique values because we'll use Label Encoder later.\n"
      ]
    },
    {
      "cell_type": "code",
      "metadata": {
        "colab": {
          "base_uri": "https://localhost:8080/"
        },
        "id": "Pmq7RoXb3st7",
        "outputId": "58bf41ce-a54b-46e6-af76-3c15f542aef3"
      },
      "source": [
        "print('Multiple Lines: ', df['MultipleLines'].unique())\n",
        "print('Internet Service: ',df['InternetService'].unique())\n",
        "print('Online Security: ',df['OnlineSecurity'].unique())\n",
        "print('Online Backup: ',df['OnlineBackup'].unique())\n",
        "print('Device Protection: ',df['DeviceProtection'].unique())\n",
        "print('Tech Support: ',df['TechSupport'].unique())\n",
        "print('Streaming TV: ',df['StreamingTV'].unique())\n",
        "print('Streaming Movies: ',df['StreamingMovies'].unique())\n",
        "print('Contract: ' ,df['Contract'].unique())\n",
        "print('Payment Method: ',df['PaymentMethod'].unique())\n"
      ],
      "execution_count": 7,
      "outputs": [
        {
          "output_type": "stream",
          "text": [
            "Multiple Lines:  ['No phone service' 'No' 'Yes']\n",
            "Internet Service:  ['DSL' 'Fiber optic' 'No']\n",
            "Online Security:  ['No' 'Yes' 'No internet service']\n",
            "Online Backup:  ['Yes' 'No' 'No internet service']\n",
            "Device Protection:  ['No' 'Yes' 'No internet service']\n",
            "Tech Support:  ['No' 'Yes' 'No internet service']\n",
            "Streaming TV:  ['No' 'Yes' 'No internet service']\n",
            "Streaming Movies:  ['No' 'Yes' 'No internet service']\n",
            "Contract:  ['Month-to-month' 'One year' 'Two year']\n",
            "Payment Method:  ['Electronic check' 'Mailed check' 'Bank transfer (automatic)'\n",
            " 'Credit card (automatic)']\n"
          ],
          "name": "stdout"
        }
      ]
    },
    {
      "cell_type": "markdown",
      "metadata": {
        "id": "FHrDQ66JFKIa"
      },
      "source": [
        "When we look into the unique values ​​in each categorical variable, we get an insight that the customers can choose to have no additional services, have them, or don't have internet service. They can go either on a month-to-month rolling contract or on a fixed contract for one / two years. Also, they are paying bills via credit card, bank transfer, or electronic checks."
      ]
    },
    {
      "cell_type": "markdown",
      "metadata": {
        "id": "ZAN3Jm-_RZVU"
      },
      "source": [
        "### Target variable distribution\n"
      ]
    },
    {
      "cell_type": "code",
      "metadata": {
        "colab": {
          "base_uri": "https://localhost:8080/",
          "height": 339
        },
        "id": "a57nPepE7YUp",
        "outputId": "b3553c95-4fed-43a8-e0c3-02b22445b982"
      },
      "source": [
        "print(df['Churn'].value_counts())\n",
        "df['Churn'].value_counts().plot(kind = 'bar', title = 'Bar Graph of Churn Distribution', color = 'blue', align = 'center')\n",
        "plt.show()"
      ],
      "execution_count": 8,
      "outputs": [
        {
          "output_type": "stream",
          "text": [
            "No     5174\n",
            "Yes    1869\n",
            "Name: Churn, dtype: int64\n"
          ],
          "name": "stdout"
        },
        {
          "output_type": "display_data",
          "data": {
            "image/png": "[encoded data removed]",
            "text/plain": [
              "<Figure size 432x288 with 1 Axes>"
            ]
          },
          "metadata": {
            "tags": [],
            "needs_background": "light"
          }
        }
      ]
    },
    {
      "cell_type": "markdown",
      "metadata": {
        "id": "4wymUSnFKIcO"
      },
      "source": [
        "As you can see above, the data set is imbalanced with a high proportion of active customers compared to their churned clients."
      ]
    },
    {
      "cell_type": "markdown",
      "metadata": {
        "id": "5F3SHTjopmBb"
      },
      "source": [
        "### Clean dataset\n",
        "\n",
        "here we are going to convert TotalCharges column to numeric type, since the values in this columns are only numbers."
      ]
    },
    {
      "cell_type": "code",
      "metadata": {
        "id": "72DtJqL0p9fx"
      },
      "source": [
        "# Transform TotalCharges from categorical to numeric\n",
        "df['TotalCharges'] = pd.to_numeric(df['TotalCharges'],errors='coerce')"
      ],
      "execution_count": 9,
      "outputs": []
    },
    {
      "cell_type": "code",
      "metadata": {
        "id": "aizE41_pPjs7"
      },
      "source": [
        "# Fill missing values with mean\n",
        "df['TotalCharges'] = df['TotalCharges'].fillna(df['TotalCharges'].mean()).round(0)"
      ],
      "execution_count": 10,
      "outputs": []
    },
    {
      "cell_type": "code",
      "metadata": {
        "colab": {
          "base_uri": "https://localhost:8080/"
        },
        "id": "2EUjXwfPPV7T",
        "outputId": "0ced4749-b3f3-400c-92f1-6fd7de4207e4"
      },
      "source": [
        "df.isna().sum()"
      ],
      "execution_count": 11,
      "outputs": [
        {
          "output_type": "execute_result",
          "data": {
            "text/plain": [
              "customerID          0\n",
              "gender              0\n",
              "SeniorCitizen       0\n",
              "Partner             0\n",
              "Dependents          0\n",
              "tenure              0\n",
              "PhoneService        0\n",
              "MultipleLines       0\n",
              "InternetService     0\n",
              "OnlineSecurity      0\n",
              "OnlineBackup        0\n",
              "DeviceProtection    0\n",
              "TechSupport         0\n",
              "StreamingTV         0\n",
              "StreamingMovies     0\n",
              "Contract            0\n",
              "PaperlessBilling    0\n",
              "PaymentMethod       0\n",
              "MonthlyCharges      0\n",
              "TotalCharges        0\n",
              "Churn               0\n",
              "dtype: int64"
            ]
          },
          "metadata": {
            "tags": []
          },
          "execution_count": 11
        }
      ]
    },
    {
      "cell_type": "code",
      "metadata": {
        "colab": {
          "base_uri": "https://localhost:8080/"
        },
        "id": "uYCOaycPqdce",
        "outputId": "05afd9ca-d22c-4e82-8e8b-b7d334198787"
      },
      "source": [
        "# Check variables types\n",
        "df.dtypes"
      ],
      "execution_count": 12,
      "outputs": [
        {
          "output_type": "execute_result",
          "data": {
            "text/plain": [
              "customerID           object\n",
              "gender               object\n",
              "SeniorCitizen         int64\n",
              "Partner              object\n",
              "Dependents           object\n",
              "tenure                int64\n",
              "PhoneService         object\n",
              "MultipleLines        object\n",
              "InternetService      object\n",
              "OnlineSecurity       object\n",
              "OnlineBackup         object\n",
              "DeviceProtection     object\n",
              "TechSupport          object\n",
              "StreamingTV          object\n",
              "StreamingMovies      object\n",
              "Contract             object\n",
              "PaperlessBilling     object\n",
              "PaymentMethod        object\n",
              "MonthlyCharges      float64\n",
              "TotalCharges        float64\n",
              "Churn                object\n",
              "dtype: object"
            ]
          },
          "metadata": {
            "tags": []
          },
          "execution_count": 12
        }
      ]
    },
    {
      "cell_type": "markdown",
      "metadata": {
        "id": "nq0doW6o5dsA"
      },
      "source": [
        "### Converting Categorical Columns to Numeric Columns\n",
        "\n",
        "This is a very important stage of pre-processing the data. \n",
        "\n",
        "Since machine learning algorithms are based on mathematical equations keeping categorical data on the equation will cause problems given that we would only need numbers in the equations.\n",
        "\n",
        "A nice way to solve this is encoding our categorical variables, for that we'll use Label Encoder - for numeric variables and create dummy variables.\n"
      ]
    },
    {
      "cell_type": "code",
      "metadata": {
        "colab": {
          "base_uri": "https://localhost:8080/"
        },
        "id": "Euh56nJmtE7t",
        "outputId": "a67c2a7b-d357-4a6b-afc4-6f7350e7e613"
      },
      "source": [
        "# Label Encode binary categorical data\n",
        "\n",
        "# Create label encoder object\n",
        "enc = LabelEncoder()\n",
        "\n",
        "# label encode columns with 2 or less unique value\n",
        "enc_count = 0\n",
        "for col in df.columns[1:]:\n",
        "  if df[col].dtype == 'object':\n",
        "    if len(list(df[col].unique())) <= 2:\n",
        "        df[col] = enc.fit_transform(df[col])\n",
        "        enc_count += 1\n",
        "print('{} columns were label encoded.'.format(enc_count))"
      ],
      "execution_count": 13,
      "outputs": [
        {
          "output_type": "stream",
          "text": [
            "6 columns were label encoded.\n"
          ],
          "name": "stdout"
        }
      ]
    },
    {
      "cell_type": "code",
      "metadata": {
        "colab": {
          "base_uri": "https://localhost:8080/",
          "height": 309
        },
        "id": "Z1z-TSxZ5t0j",
        "outputId": "98ecc5ae-217f-4fff-8613-955d72dfe552"
      },
      "source": [
        "df.head()"
      ],
      "execution_count": 14,
      "outputs": [
        {
          "output_type": "execute_result",
          "data": {
            "text/html": [
              "<div>\n",
              "<style scoped>\n",
              "    .dataframe tbody tr th:only-of-type {\n",
              "        vertical-align: middle;\n",
              "    }\n",
              "\n",
              "    .dataframe tbody tr th {\n",
              "        vertical-align: top;\n",
              "    }\n",
              "\n",
              "    .dataframe thead th {\n",
              "        text-align: right;\n",
              "    }\n",
              "</style>\n",
              "<table border=\"1\" class=\"dataframe\">\n",
              "  <thead>\n",
              "    <tr style=\"text-align: right;\">\n",
              "      <th></th>\n",
              "      <th>customerID</th>\n",
              "      <th>gender</th>\n",
              "      <th>SeniorCitizen</th>\n",
              "      <th>Partner</th>\n",
              "      <th>Dependents</th>\n",
              "      <th>tenure</th>\n",
              "      <th>PhoneService</th>\n",
              "      <th>MultipleLines</th>\n",
              "      <th>InternetService</th>\n",
              "      <th>OnlineSecurity</th>\n",
              "      <th>OnlineBackup</th>\n",
              "      <th>DeviceProtection</th>\n",
              "      <th>TechSupport</th>\n",
              "      <th>StreamingTV</th>\n",
              "      <th>StreamingMovies</th>\n",
              "      <th>Contract</th>\n",
              "      <th>PaperlessBilling</th>\n",
              "      <th>PaymentMethod</th>\n",
              "      <th>MonthlyCharges</th>\n",
              "      <th>TotalCharges</th>\n",
              "      <th>Churn</th>\n",
              "    </tr>\n",
              "  </thead>\n",
              "  <tbody>\n",
              "    <tr>\n",
              "      <th>0</th>\n",
              "      <td>7590-VHVEG</td>\n",
              "      <td>0</td>\n",
              "      <td>0</td>\n",
              "      <td>1</td>\n",
              "      <td>0</td>\n",
              "      <td>1</td>\n",
              "      <td>0</td>\n",
              "      <td>No phone service</td>\n",
              "      <td>DSL</td>\n",
              "      <td>No</td>\n",
              "      <td>Yes</td>\n",
              "      <td>No</td>\n",
              "      <td>No</td>\n",
              "      <td>No</td>\n",
              "      <td>No</td>\n",
              "      <td>Month-to-month</td>\n",
              "      <td>1</td>\n",
              "      <td>Electronic check</td>\n",
              "      <td>29.85</td>\n",
              "      <td>30.0</td>\n",
              "      <td>0</td>\n",
              "    </tr>\n",
              "    <tr>\n",
              "      <th>1</th>\n",
              "      <td>5575-GNVDE</td>\n",
              "      <td>1</td>\n",
              "      <td>0</td>\n",
              "      <td>0</td>\n",
              "      <td>0</td>\n",
              "      <td>34</td>\n",
              "      <td>1</td>\n",
              "      <td>No</td>\n",
              "      <td>DSL</td>\n",
              "      <td>Yes</td>\n",
              "      <td>No</td>\n",
              "      <td>Yes</td>\n",
              "      <td>No</td>\n",
              "      <td>No</td>\n",
              "      <td>No</td>\n",
              "      <td>One year</td>\n",
              "      <td>0</td>\n",
              "      <td>Mailed check</td>\n",
              "      <td>56.95</td>\n",
              "      <td>1890.0</td>\n",
              "      <td>0</td>\n",
              "    </tr>\n",
              "    <tr>\n",
              "      <th>2</th>\n",
              "      <td>3668-QPYBK</td>\n",
              "      <td>1</td>\n",
              "      <td>0</td>\n",
              "      <td>0</td>\n",
              "      <td>0</td>\n",
              "      <td>2</td>\n",
              "      <td>1</td>\n",
              "      <td>No</td>\n",
              "      <td>DSL</td>\n",
              "      <td>Yes</td>\n",
              "      <td>Yes</td>\n",
              "      <td>No</td>\n",
              "      <td>No</td>\n",
              "      <td>No</td>\n",
              "      <td>No</td>\n",
              "      <td>Month-to-month</td>\n",
              "      <td>1</td>\n",
              "      <td>Mailed check</td>\n",
              "      <td>53.85</td>\n",
              "      <td>108.0</td>\n",
              "      <td>1</td>\n",
              "    </tr>\n",
              "    <tr>\n",
              "      <th>3</th>\n",
              "      <td>7795-CFOCW</td>\n",
              "      <td>1</td>\n",
              "      <td>0</td>\n",
              "      <td>0</td>\n",
              "      <td>0</td>\n",
              "      <td>45</td>\n",
              "      <td>0</td>\n",
              "      <td>No phone service</td>\n",
              "      <td>DSL</td>\n",
              "      <td>Yes</td>\n",
              "      <td>No</td>\n",
              "      <td>Yes</td>\n",
              "      <td>Yes</td>\n",
              "      <td>No</td>\n",
              "      <td>No</td>\n",
              "      <td>One year</td>\n",
              "      <td>0</td>\n",
              "      <td>Bank transfer (automatic)</td>\n",
              "      <td>42.30</td>\n",
              "      <td>1841.0</td>\n",
              "      <td>0</td>\n",
              "    </tr>\n",
              "    <tr>\n",
              "      <th>4</th>\n",
              "      <td>9237-HQITU</td>\n",
              "      <td>0</td>\n",
              "      <td>0</td>\n",
              "      <td>0</td>\n",
              "      <td>0</td>\n",
              "      <td>2</td>\n",
              "      <td>1</td>\n",
              "      <td>No</td>\n",
              "      <td>Fiber optic</td>\n",
              "      <td>No</td>\n",
              "      <td>No</td>\n",
              "      <td>No</td>\n",
              "      <td>No</td>\n",
              "      <td>No</td>\n",
              "      <td>No</td>\n",
              "      <td>Month-to-month</td>\n",
              "      <td>1</td>\n",
              "      <td>Electronic check</td>\n",
              "      <td>70.70</td>\n",
              "      <td>152.0</td>\n",
              "      <td>1</td>\n",
              "    </tr>\n",
              "  </tbody>\n",
              "</table>\n",
              "</div>"
            ],
            "text/plain": [
              "   customerID  gender  SeniorCitizen  ...  MonthlyCharges  TotalCharges  Churn\n",
              "0  7590-VHVEG       0              0  ...           29.85          30.0      0\n",
              "1  5575-GNVDE       1              0  ...           56.95        1890.0      0\n",
              "2  3668-QPYBK       1              0  ...           53.85         108.0      1\n",
              "3  7795-CFOCW       1              0  ...           42.30        1841.0      0\n",
              "4  9237-HQITU       0              0  ...           70.70         152.0      1\n",
              "\n",
              "[5 rows x 21 columns]"
            ]
          },
          "metadata": {
            "tags": []
          },
          "execution_count": 14
        }
      ]
    },
    {
      "cell_type": "code",
      "metadata": {
        "id": "2V9Hy0sr6K63"
      },
      "source": [
        "# One Hot Encode non-binary categorical data\n",
        "cols_nbin = ['MultipleLines' , 'InternetService' , 'OnlineSecurity' , 'OnlineBackup' , 'DeviceProtection' , 'TechSupport' , 'StreamingTV' , 'Contract' , 'PaymentMethod' , 'StreamingMovies']\n",
        "df_encoded = pd.get_dummies(df[cols_nbin])\n",
        "\n",
        "df_clean = df.copy()\n",
        "\n",
        "# Delete non binary columns \n",
        "df_clean = df_clean.drop(columns=['MultipleLines' , 'InternetService' , 'OnlineSecurity' , 'OnlineBackup' , 'DeviceProtection' , 'TechSupport' , 'StreamingTV' , 'Contract' , 'PaymentMethod' , 'StreamingMovies'])\n",
        "\n",
        "df_clean = pd.concat([df_clean, df_encoded], axis = 1)"
      ],
      "execution_count": 15,
      "outputs": []
    },
    {
      "cell_type": "code",
      "metadata": {
        "colab": {
          "base_uri": "https://localhost:8080/",
          "height": 309
        },
        "id": "NG345mIw9BqN",
        "outputId": "c54f7141-d9f4-44e6-ae02-2c1de826d4f3"
      },
      "source": [
        "df_clean.head()"
      ],
      "execution_count": 16,
      "outputs": [
        {
          "output_type": "execute_result",
          "data": {
            "text/html": [
              "<div>\n",
              "<style scoped>\n",
              "    .dataframe tbody tr th:only-of-type {\n",
              "        vertical-align: middle;\n",
              "    }\n",
              "\n",
              "    .dataframe tbody tr th {\n",
              "        vertical-align: top;\n",
              "    }\n",
              "\n",
              "    .dataframe thead th {\n",
              "        text-align: right;\n",
              "    }\n",
              "</style>\n",
              "<table border=\"1\" class=\"dataframe\">\n",
              "  <thead>\n",
              "    <tr style=\"text-align: right;\">\n",
              "      <th></th>\n",
              "      <th>customerID</th>\n",
              "      <th>gender</th>\n",
              "      <th>SeniorCitizen</th>\n",
              "      <th>Partner</th>\n",
              "      <th>Dependents</th>\n",
              "      <th>tenure</th>\n",
              "      <th>PhoneService</th>\n",
              "      <th>PaperlessBilling</th>\n",
              "      <th>MonthlyCharges</th>\n",
              "      <th>TotalCharges</th>\n",
              "      <th>Churn</th>\n",
              "      <th>MultipleLines_No</th>\n",
              "      <th>MultipleLines_No phone service</th>\n",
              "      <th>MultipleLines_Yes</th>\n",
              "      <th>InternetService_DSL</th>\n",
              "      <th>InternetService_Fiber optic</th>\n",
              "      <th>InternetService_No</th>\n",
              "      <th>OnlineSecurity_No</th>\n",
              "      <th>OnlineSecurity_No internet service</th>\n",
              "      <th>OnlineSecurity_Yes</th>\n",
              "      <th>OnlineBackup_No</th>\n",
              "      <th>OnlineBackup_No internet service</th>\n",
              "      <th>OnlineBackup_Yes</th>\n",
              "      <th>DeviceProtection_No</th>\n",
              "      <th>DeviceProtection_No internet service</th>\n",
              "      <th>DeviceProtection_Yes</th>\n",
              "      <th>TechSupport_No</th>\n",
              "      <th>TechSupport_No internet service</th>\n",
              "      <th>TechSupport_Yes</th>\n",
              "      <th>StreamingTV_No</th>\n",
              "      <th>StreamingTV_No internet service</th>\n",
              "      <th>StreamingTV_Yes</th>\n",
              "      <th>Contract_Month-to-month</th>\n",
              "      <th>Contract_One year</th>\n",
              "      <th>Contract_Two year</th>\n",
              "      <th>PaymentMethod_Bank transfer (automatic)</th>\n",
              "      <th>PaymentMethod_Credit card (automatic)</th>\n",
              "      <th>PaymentMethod_Electronic check</th>\n",
              "      <th>PaymentMethod_Mailed check</th>\n",
              "      <th>StreamingMovies_No</th>\n",
              "      <th>StreamingMovies_No internet service</th>\n",
              "      <th>StreamingMovies_Yes</th>\n",
              "    </tr>\n",
              "  </thead>\n",
              "  <tbody>\n",
              "    <tr>\n",
              "      <th>0</th>\n",
              "      <td>7590-VHVEG</td>\n",
              "      <td>0</td>\n",
              "      <td>0</td>\n",
              "      <td>1</td>\n",
              "      <td>0</td>\n",
              "      <td>1</td>\n",
              "      <td>0</td>\n",
              "      <td>1</td>\n",
              "      <td>29.85</td>\n",
              "      <td>30.0</td>\n",
              "      <td>0</td>\n",
              "      <td>0</td>\n",
              "      <td>1</td>\n",
              "      <td>0</td>\n",
              "      <td>1</td>\n",
              "      <td>0</td>\n",
              "      <td>0</td>\n",
              "      <td>1</td>\n",
              "      <td>0</td>\n",
              "      <td>0</td>\n",
              "      <td>0</td>\n",
              "      <td>0</td>\n",
              "      <td>1</td>\n",
              "      <td>1</td>\n",
              "      <td>0</td>\n",
              "      <td>0</td>\n",
              "      <td>1</td>\n",
              "      <td>0</td>\n",
              "      <td>0</td>\n",
              "      <td>1</td>\n",
              "      <td>0</td>\n",
              "      <td>0</td>\n",
              "      <td>1</td>\n",
              "      <td>0</td>\n",
              "      <td>0</td>\n",
              "      <td>0</td>\n",
              "      <td>0</td>\n",
              "      <td>1</td>\n",
              "      <td>0</td>\n",
              "      <td>1</td>\n",
              "      <td>0</td>\n",
              "      <td>0</td>\n",
              "    </tr>\n",
              "    <tr>\n",
              "      <th>1</th>\n",
              "      <td>5575-GNVDE</td>\n",
              "      <td>1</td>\n",
              "      <td>0</td>\n",
              "      <td>0</td>\n",
              "      <td>0</td>\n",
              "      <td>34</td>\n",
              "      <td>1</td>\n",
              "      <td>0</td>\n",
              "      <td>56.95</td>\n",
              "      <td>1890.0</td>\n",
              "      <td>0</td>\n",
              "      <td>1</td>\n",
              "      <td>0</td>\n",
              "      <td>0</td>\n",
              "      <td>1</td>\n",
              "      <td>0</td>\n",
              "      <td>0</td>\n",
              "      <td>0</td>\n",
              "      <td>0</td>\n",
              "      <td>1</td>\n",
              "      <td>1</td>\n",
              "      <td>0</td>\n",
              "      <td>0</td>\n",
              "      <td>0</td>\n",
              "      <td>0</td>\n",
              "      <td>1</td>\n",
              "      <td>1</td>\n",
              "      <td>0</td>\n",
              "      <td>0</td>\n",
              "      <td>1</td>\n",
              "      <td>0</td>\n",
              "      <td>0</td>\n",
              "      <td>0</td>\n",
              "      <td>1</td>\n",
              "      <td>0</td>\n",
              "      <td>0</td>\n",
              "      <td>0</td>\n",
              "      <td>0</td>\n",
              "      <td>1</td>\n",
              "      <td>1</td>\n",
              "      <td>0</td>\n",
              "      <td>0</td>\n",
              "    </tr>\n",
              "    <tr>\n",
              "      <th>2</th>\n",
              "      <td>3668-QPYBK</td>\n",
              "      <td>1</td>\n",
              "      <td>0</td>\n",
              "      <td>0</td>\n",
              "      <td>0</td>\n",
              "      <td>2</td>\n",
              "      <td>1</td>\n",
              "      <td>1</td>\n",
              "      <td>53.85</td>\n",
              "      <td>108.0</td>\n",
              "      <td>1</td>\n",
              "      <td>1</td>\n",
              "      <td>0</td>\n",
              "      <td>0</td>\n",
              "      <td>1</td>\n",
              "      <td>0</td>\n",
              "      <td>0</td>\n",
              "      <td>0</td>\n",
              "      <td>0</td>\n",
              "      <td>1</td>\n",
              "      <td>0</td>\n",
              "      <td>0</td>\n",
              "      <td>1</td>\n",
              "      <td>1</td>\n",
              "      <td>0</td>\n",
              "      <td>0</td>\n",
              "      <td>1</td>\n",
              "      <td>0</td>\n",
              "      <td>0</td>\n",
              "      <td>1</td>\n",
              "      <td>0</td>\n",
              "      <td>0</td>\n",
              "      <td>1</td>\n",
              "      <td>0</td>\n",
              "      <td>0</td>\n",
              "      <td>0</td>\n",
              "      <td>0</td>\n",
              "      <td>0</td>\n",
              "      <td>1</td>\n",
              "      <td>1</td>\n",
              "      <td>0</td>\n",
              "      <td>0</td>\n",
              "    </tr>\n",
              "    <tr>\n",
              "      <th>3</th>\n",
              "      <td>7795-CFOCW</td>\n",
              "      <td>1</td>\n",
              "      <td>0</td>\n",
              "      <td>0</td>\n",
              "      <td>0</td>\n",
              "      <td>45</td>\n",
              "      <td>0</td>\n",
              "      <td>0</td>\n",
              "      <td>42.30</td>\n",
              "      <td>1841.0</td>\n",
              "      <td>0</td>\n",
              "      <td>0</td>\n",
              "      <td>1</td>\n",
              "      <td>0</td>\n",
              "      <td>1</td>\n",
              "      <td>0</td>\n",
              "      <td>0</td>\n",
              "      <td>0</td>\n",
              "      <td>0</td>\n",
              "      <td>1</td>\n",
              "      <td>1</td>\n",
              "      <td>0</td>\n",
              "      <td>0</td>\n",
              "      <td>0</td>\n",
              "      <td>0</td>\n",
              "      <td>1</td>\n",
              "      <td>0</td>\n",
              "      <td>0</td>\n",
              "      <td>1</td>\n",
              "      <td>1</td>\n",
              "      <td>0</td>\n",
              "      <td>0</td>\n",
              "      <td>0</td>\n",
              "      <td>1</td>\n",
              "      <td>0</td>\n",
              "      <td>1</td>\n",
              "      <td>0</td>\n",
              "      <td>0</td>\n",
              "      <td>0</td>\n",
              "      <td>1</td>\n",
              "      <td>0</td>\n",
              "      <td>0</td>\n",
              "    </tr>\n",
              "    <tr>\n",
              "      <th>4</th>\n",
              "      <td>9237-HQITU</td>\n",
              "      <td>0</td>\n",
              "      <td>0</td>\n",
              "      <td>0</td>\n",
              "      <td>0</td>\n",
              "      <td>2</td>\n",
              "      <td>1</td>\n",
              "      <td>1</td>\n",
              "      <td>70.70</td>\n",
              "      <td>152.0</td>\n",
              "      <td>1</td>\n",
              "      <td>1</td>\n",
              "      <td>0</td>\n",
              "      <td>0</td>\n",
              "      <td>0</td>\n",
              "      <td>1</td>\n",
              "      <td>0</td>\n",
              "      <td>1</td>\n",
              "      <td>0</td>\n",
              "      <td>0</td>\n",
              "      <td>1</td>\n",
              "      <td>0</td>\n",
              "      <td>0</td>\n",
              "      <td>1</td>\n",
              "      <td>0</td>\n",
              "      <td>0</td>\n",
              "      <td>1</td>\n",
              "      <td>0</td>\n",
              "      <td>0</td>\n",
              "      <td>1</td>\n",
              "      <td>0</td>\n",
              "      <td>0</td>\n",
              "      <td>1</td>\n",
              "      <td>0</td>\n",
              "      <td>0</td>\n",
              "      <td>0</td>\n",
              "      <td>0</td>\n",
              "      <td>1</td>\n",
              "      <td>0</td>\n",
              "      <td>1</td>\n",
              "      <td>0</td>\n",
              "      <td>0</td>\n",
              "    </tr>\n",
              "  </tbody>\n",
              "</table>\n",
              "</div>"
            ],
            "text/plain": [
              "   customerID  gender  ...  StreamingMovies_No internet service  StreamingMovies_Yes\n",
              "0  7590-VHVEG       0  ...                                    0                    0\n",
              "1  5575-GNVDE       1  ...                                    0                    0\n",
              "2  3668-QPYBK       1  ...                                    0                    0\n",
              "3  7795-CFOCW       1  ...                                    0                    0\n",
              "4  9237-HQITU       0  ...                                    0                    0\n",
              "\n",
              "[5 rows x 42 columns]"
            ]
          },
          "metadata": {
            "tags": []
          },
          "execution_count": 16
        }
      ]
    },
    {
      "cell_type": "markdown",
      "metadata": {
        "id": "1lCDS6fxRsfW"
      },
      "source": [
        "### EDA\n",
        "\n",
        "let's visualize the relation of the independent variable with the categorical variables using the 'df' dataset and maybe gain better insight for selecting the best features."
      ]
    },
    {
      "cell_type": "markdown",
      "metadata": {
        "id": "G6OZPY73DlQS"
      },
      "source": [
        "#### <u>Percentage of churn customers</u>"
      ]
    },
    {
      "cell_type": "code",
      "metadata": {
        "colab": {
          "base_uri": "https://localhost:8080/",
          "height": 500
        },
        "id": "0bLNAPkBs7Nj",
        "outputId": "09c0a374-ec2c-4cd2-94b1-e171c43b84df"
      },
      "source": [
        "# Create variable with columns Churn and CustomerID\n",
        "\n",
        "customer_churn = df[['Churn', 'customerID']]\n",
        "customer_churn[\"churn_label\"] = pd.Series(np.where((customer_churn[\"Churn\"] == 0), \"No\", \"Yes\"))\n",
        "sectors = customer_churn.groupby (\"churn_label\")\n",
        "customer_churn = pd.DataFrame(sectors['customerID'].count())\n",
        "customer_churn['Churn Rate'] = (customer_churn['customerID'] / sum(customer_churn['customerID']))*100\n",
        "\n",
        "# Create ax object\n",
        "ax =  customer_churn[[\"Churn Rate\"]].plot.bar(legend =True, figsize =(12, 7), rot=0, color='#64BCD9')\n",
        "\n",
        "# Customize\n",
        "plt.title('Percentage of churned customers \\n',horizontalalignment='center', fontsize='22')\n",
        "plt.legend(loc='top right', fontsize='large')\n",
        "plt.xlabel('Churn', horizontalalignment='center', fontsize='xx-large')\n",
        "plt.ylabel('Proportion of Customers', horizontalalignment='center', fontsize='x-large')\n",
        "plt.xticks(fontsize='x-large')\n",
        "plt.yticks(rotation=0, horizontalalignment=\"right\")\n",
        "ax.yaxis.set_major_formatter(mtick.PercentFormatter())\n",
        "\n",
        "# Loop to add the percentage\n",
        "for p in ax.patches:\n",
        "  width = p.get_width()\n",
        "  height = p.get_height()\n",
        "  x ,y = p.get_xy()\n",
        "  ax.annotate('{:.1f}%'.format(height), (x + width/2, y + height*0.2), ha='center')"
      ],
      "execution_count": 17,
      "outputs": [
        {
          "output_type": "display_data",
          "data": {
            "image/png": "[encoded data removed]",
            "text/plain": [
              "<Figure size 864x504 with 1 Axes>"
            ]
          },
          "metadata": {
            "tags": [],
            "needs_background": "light"
          }
        }
      ]
    },
    {
      "cell_type": "markdown",
      "metadata": {
        "id": "k5bgDzq9eh8h"
      },
      "source": [
        "The class is imbalanced with a high proportion of active customers compared to their churned counterparts."
      ]
    },
    {
      "cell_type": "markdown",
      "metadata": {
        "id": "DrNLEQnzPHS9"
      },
      "source": [
        "#### <u>Histogram of numeric Columns </u>"
      ]
    },
    {
      "cell_type": "code",
      "metadata": {
        "colab": {
          "base_uri": "https://localhost:8080/",
          "height": 457
        },
        "id": "ZOs9Y8sAPLqw",
        "outputId": "461391b1-7f3b-4977-a8ef-f23e0641f4cd"
      },
      "source": [
        "numerics = df[['gender', 'SeniorCitizen', 'Partner', 'Dependents',\n",
        "       'tenure', 'PhoneService', 'PaperlessBilling',\n",
        "        'MonthlyCharges', 'TotalCharges']]\n",
        "\n",
        "#Histogram:\n",
        "    \n",
        "fig = plt.figure(figsize=(15, 12))\n",
        "plt.suptitle('Histograms of Numerical Columns\\n',horizontalalignment=\"center\",fontsize = 24)\n",
        "for i in range(numerics.shape[1]):\n",
        "    plt.subplot(6, 3, i + 1)\n",
        "    f = plt.gca()\n",
        "    f.set_title(numerics.columns.values[i])\n",
        "\n",
        "    vals = np.size(numerics.iloc[:, i].unique())\n",
        "    if vals >= 100:\n",
        "        vals = 100\n",
        "    \n",
        "    plt.hist(numerics.iloc[:, i], bins=vals, color = '#64BCD9')\n",
        "plt.tight_layout(rect=[0, 0.03, 1, 0.95])"
      ],
      "execution_count": 18,
      "outputs": [
        {
          "output_type": "display_data",
          "data": {
            "image/png": "[encoded data removed]",
            "text/plain": [
              "<Figure size 1080x864 with 9 Axes>"
            ]
          },
          "metadata": {
            "tags": [],
            "needs_background": "light"
          }
        }
      ]
    },
    {
      "cell_type": "markdown",
      "metadata": {
        "id": "P_Z-zR3_Prir"
      },
      "source": [
        "Some insights about the histograms:\n",
        "\n",
        "* Gender distribution shows that the dataset features a relatively equal proportion of male and female customers\n",
        "\n",
        "* Most of the customers (83%) are younger people;\n",
        "\n",
        "* Not many customers seem to have dependents whilst almost half of the customers have a partner.\n",
        "\n",
        "* Tenure shows that there are a lot of new customers (less than 10 months) followed by a loyal customer segment (Over 70 months);\n",
        "\n",
        "* Over 90% of customers choose to have phone service;\n",
        "\n",
        "*  2/3th of the customers have opted for paperless Billing\n",
        "\n",
        "* Monthly charges span anywhere between 18 to 118 per customer with a huge proportion of customers in the $20 segment."
      ]
    },
    {
      "cell_type": "markdown",
      "metadata": {
        "id": "xUYR7haDDvCg"
      },
      "source": [
        "#### <u>Churn rate by Contract type</u>"
      ]
    },
    {
      "cell_type": "markdown",
      "metadata": {
        "id": "_AENdY9iHby-"
      },
      "source": [
        "As we can see, the majority of customers who opted for a two-year contract remained with the company. This can be a good metric.\n"
      ]
    },
    {
      "cell_type": "code",
      "metadata": {
        "colab": {
          "base_uri": "https://localhost:8080/",
          "height": 542
        },
        "id": "3ikOZK3Ir4nz",
        "outputId": "87115366-07ce-4589-efe7-549a960d8e7d"
      },
      "source": [
        "colors = ['#E8C9C1','#64BCD9']\n",
        "\n",
        "# Create variable with the two columns contract and churn\n",
        "contract_churn = df.groupby(['Contract','Churn']).size().unstack()\n",
        "contract_churn.rename(columns={1:'Yes', 0:'No'}, inplace=True)\n",
        "\n",
        "# Create ax objetct\n",
        "ax = (contract_churn.T*100.0 / contract_churn.T.sum()).T.plot(kind='bar', figsize=(12,8),\n",
        "                                                              width=0.3, color=colors, \n",
        "                                                              stacked=True, rot=0)\n",
        "\n",
        "# Customize\n",
        "plt.title('Churned customers by Contract type', fontsize=22)\n",
        "plt.legend(bbox_to_anchor=(1.02, 1), loc='upper left', fontsize='large')\n",
        "plt.xlabel('Contract \\n', fontsize='x-large')\n",
        "plt.ylabel('Proportion of Customers', fontsize='x-large')\n",
        "plt.xticks(fontsize='large')\n",
        "plt.yticks(rotation=0, horizontalalignment=\"right\")\n",
        "ax.yaxis.set_major_formatter(mtick.PercentFormatter())\n",
        "\n",
        "# Loop to add the percentage\n",
        "for p in ax.patches:\n",
        "  width = p.get_width()\n",
        "  height = p.get_height()\n",
        "  x ,y = p.get_xy()\n",
        "  ax.annotate('{:.1f}%'.format(height), (x + width/2, y + height*0.2), ha='center')"
      ],
      "execution_count": 19,
      "outputs": [
        {
          "output_type": "display_data",
          "data": {
            "image/png": "[encoded data removed]",
            "text/plain": [
              "<Figure size 864x576 with 1 Axes>"
            ]
          },
          "metadata": {
            "tags": [],
            "needs_background": "light"
          }
        }
      ]
    },
    {
      "cell_type": "markdown",
      "metadata": {
        "id": "vkDBMIRvPqGU"
      },
      "source": [
        "#### <u>Churned Customer by Payment Method</u>"
      ]
    },
    {
      "cell_type": "markdown",
      "metadata": {
        "id": "31PXY3I3PxMp"
      },
      "source": [
        "Customers who opt for automatic payment tend to have a lower churn rate."
      ]
    },
    {
      "cell_type": "code",
      "metadata": {
        "colab": {
          "base_uri": "https://localhost:8080/",
          "height": 469
        },
        "id": "Ta3BFWo5H1J-",
        "outputId": "9bc9e588-f4d5-483e-ea9d-aecfdfe7421b"
      },
      "source": [
        "color = ['#E8C9C1','#64BCD9', '#C3E892', '#AABAE9' ]\n",
        "\n",
        "# Create variable with columns Contract and PaymentMethod\n",
        "contract_churn = df.groupby(['Contract','PaymentMethod']).size().unstack()\n",
        "\n",
        "# Create ax object\n",
        "ax = (contract_churn.T*100.0 / contract_churn.T.sum()).T.plot(kind='bar', width=0.3, stacked=True, figsize=(16,7), rot=0, color=color)\n",
        "\n",
        "# Customize\n",
        "plt.title('Churn rate by Payment method', fontsize=22)\n",
        "plt.legend(bbox_to_anchor=(1.02, 1), loc='upper left', fontsize='large')\n",
        "plt.xlabel('Contract \\n', fontsize='xx-large')\n",
        "plt.ylabel('Proportion of Customers', fontsize = 'x-large')\n",
        "plt.xticks(fontsize='x-large')\n",
        "plt.yticks(horizontalalignment=\"right\")\n",
        "ax.yaxis.set_major_formatter(mtick.PercentFormatter())\n",
        "\n",
        "\n",
        "# Loop to add the percentage\n",
        "for p in ax.patches:\n",
        "  width = p.get_width()\n",
        "  height = p.get_height()\n",
        "  x ,y = p.get_xy()\n",
        "  ax.annotate('{:.1f}%'.format(height), (x + width/2, y + height*0.2), ha='center')"
      ],
      "execution_count": 20,
      "outputs": [
        {
          "output_type": "display_data",
          "data": {
            "image/png": "[encoded data removed]",
            "text/plain": [
              "<Figure size 1152x504 with 1 Axes>"
            ]
          },
          "metadata": {
            "tags": [],
            "needs_background": "light"
          }
        }
      ]
    },
    {
      "cell_type": "markdown",
      "metadata": {
        "id": "ZRAb1AHYJFhV"
      },
      "source": [
        "#### <u>Find positive and negative correlations with the Target Variable</u>\n"
      ]
    },
    {
      "cell_type": "markdown",
      "metadata": {
        "id": "h0RW_nSYP4Wl"
      },
      "source": [
        "Partner, Dependents, and Tenure seem to be negatively related to churn but churn rate increases with monthly charges and paperless billing."
      ]
    },
    {
      "cell_type": "code",
      "metadata": {
        "id": "dVJUxmKLJEzK",
        "colab": {
          "base_uri": "https://localhost:8080/",
          "height": 657
        },
        "outputId": "2e04b7e8-5769-4417-c5db-c262cee2692c"
      },
      "source": [
        "columns = df[['SeniorCitizen','Partner','Dependents','tenure','PhoneService','PaperlessBilling','MonthlyCharges','TotalCharges']]\n",
        "\n",
        "correlations = columns.corrwith(df.Churn)\n",
        "correlations = correlations[correlations!=1]\n",
        "correlations.plot.bar(figsize = (16, 10), grid=True, rot = 0, color='#64BCD9')\n",
        "\n",
        "# Customize\n",
        "plt.title('Correlation with Churned customers \\n', fontsize = \"22\")\n",
        "plt.xticks(fontsize='large')"
      ],
      "execution_count": 21,
      "outputs": [
        {
          "output_type": "execute_result",
          "data": {
            "text/plain": [
              "(array([0, 1, 2, 3, 4, 5, 6, 7]), <a list of 8 Text major ticklabel objects>)"
            ]
          },
          "metadata": {
            "tags": []
          },
          "execution_count": 21
        },
        {
          "output_type": "display_data",
          "data": {
            "image/png": "[encoded data removed]",
            "text/plain": [
              "<Figure size 1152x720 with 1 Axes>"
            ]
          },
          "metadata": {
            "tags": [],
            "needs_background": "light"
          }
        }
      ]
    },
    {
      "cell_type": "markdown",
      "metadata": {
        "id": "1yDPX5G_8DXU"
      },
      "source": [
        "#### <u>Detecting Multicollinearity with VIF</u>"
      ]
    },
    {
      "cell_type": "markdown",
      "metadata": {
        "id": "Yg2zXT7-QBxM"
      },
      "source": [
        "Multicollinearity is the state where three or more variables are highly correlated and contain similar information about the variance within a given dataset. \n",
        "\n",
        "In order to detect some colinearity, we use Variance Inflation Factor (VIF) which is a measure of colinearity among predictor variables within a multiple regression.\n"
      ]
    },
    {
      "cell_type": "code",
      "metadata": {
        "id": "7Kxe6TyeLzpX",
        "colab": {
          "base_uri": "https://localhost:8080/",
          "height": 325
        },
        "outputId": "773591a0-6baa-471c-d824-cdcd1cab4835"
      },
      "source": [
        "def calc_vif(X):\n",
        "    vif = pd.DataFrame()\n",
        "    vif[\"variables\"] = X.columns\n",
        "    vif[\"VIF\"] = [variance_inflation_factor(X.values, i) for i in range(X.shape[1])]\n",
        "\n",
        "    return(vif)\n",
        "\n",
        "columns = df[['gender', 'SeniorCitizen', 'Partner', 'Dependents',\n",
        "       'tenure', 'PhoneService', 'PaperlessBilling','MonthlyCharges','TotalCharges']]\n",
        "\n",
        "calc_vif(columns)"
      ],
      "execution_count": 22,
      "outputs": [
        {
          "output_type": "execute_result",
          "data": {
            "text/html": [
              "<div>\n",
              "<style scoped>\n",
              "    .dataframe tbody tr th:only-of-type {\n",
              "        vertical-align: middle;\n",
              "    }\n",
              "\n",
              "    .dataframe tbody tr th {\n",
              "        vertical-align: top;\n",
              "    }\n",
              "\n",
              "    .dataframe thead th {\n",
              "        text-align: right;\n",
              "    }\n",
              "</style>\n",
              "<table border=\"1\" class=\"dataframe\">\n",
              "  <thead>\n",
              "    <tr style=\"text-align: right;\">\n",
              "      <th></th>\n",
              "      <th>variables</th>\n",
              "      <th>VIF</th>\n",
              "    </tr>\n",
              "  </thead>\n",
              "  <tbody>\n",
              "    <tr>\n",
              "      <th>0</th>\n",
              "      <td>gender</td>\n",
              "      <td>1.921286</td>\n",
              "    </tr>\n",
              "    <tr>\n",
              "      <th>1</th>\n",
              "      <td>SeniorCitizen</td>\n",
              "      <td>1.327766</td>\n",
              "    </tr>\n",
              "    <tr>\n",
              "      <th>2</th>\n",
              "      <td>Partner</td>\n",
              "      <td>2.815272</td>\n",
              "    </tr>\n",
              "    <tr>\n",
              "      <th>3</th>\n",
              "      <td>Dependents</td>\n",
              "      <td>1.921208</td>\n",
              "    </tr>\n",
              "    <tr>\n",
              "      <th>4</th>\n",
              "      <td>tenure</td>\n",
              "      <td>10.549667</td>\n",
              "    </tr>\n",
              "    <tr>\n",
              "      <th>5</th>\n",
              "      <td>PhoneService</td>\n",
              "      <td>7.976386</td>\n",
              "    </tr>\n",
              "    <tr>\n",
              "      <th>6</th>\n",
              "      <td>PaperlessBilling</td>\n",
              "      <td>2.814160</td>\n",
              "    </tr>\n",
              "    <tr>\n",
              "      <th>7</th>\n",
              "      <td>MonthlyCharges</td>\n",
              "      <td>13.988649</td>\n",
              "    </tr>\n",
              "    <tr>\n",
              "      <th>8</th>\n",
              "      <td>TotalCharges</td>\n",
              "      <td>12.570269</td>\n",
              "    </tr>\n",
              "  </tbody>\n",
              "</table>\n",
              "</div>"
            ],
            "text/plain": [
              "          variables        VIF\n",
              "0            gender   1.921286\n",
              "1     SeniorCitizen   1.327766\n",
              "2           Partner   2.815272\n",
              "3        Dependents   1.921208\n",
              "4            tenure  10.549667\n",
              "5      PhoneService   7.976386\n",
              "6  PaperlessBilling   2.814160\n",
              "7    MonthlyCharges  13.988649\n",
              "8      TotalCharges  12.570269"
            ]
          },
          "metadata": {
            "tags": []
          },
          "execution_count": 22
        }
      ]
    },
    {
      "cell_type": "markdown",
      "metadata": {
        "id": "mqM0Oam_S27p"
      },
      "source": [
        "We can see here that the ‘Monthly Charges’ and ‘Total Charges’ have a high variance inflation factor because they \"explain\" the same variance within this dataset.  To avoid the risk of reducing the precision of coefficients we 'll drop `TotalCharges`."
      ]
    },
    {
      "cell_type": "code",
      "metadata": {
        "id": "cU4tnXIDUewr",
        "colab": {
          "base_uri": "https://localhost:8080/",
          "height": 294
        },
        "outputId": "5414dda3-ad47-40a5-8e96-37dd0c45169a"
      },
      "source": [
        "columns = df.drop(columns='TotalCharges')\n",
        "\n",
        "columns = df[['gender', 'SeniorCitizen', 'Partner', 'Dependents', 'tenure', 'PhoneService', 'PaperlessBilling','MonthlyCharges']]\n",
        "\n",
        "calc_vif(columns)"
      ],
      "execution_count": 23,
      "outputs": [
        {
          "output_type": "execute_result",
          "data": {
            "text/html": [
              "<div>\n",
              "<style scoped>\n",
              "    .dataframe tbody tr th:only-of-type {\n",
              "        vertical-align: middle;\n",
              "    }\n",
              "\n",
              "    .dataframe tbody tr th {\n",
              "        vertical-align: top;\n",
              "    }\n",
              "\n",
              "    .dataframe thead th {\n",
              "        text-align: right;\n",
              "    }\n",
              "</style>\n",
              "<table border=\"1\" class=\"dataframe\">\n",
              "  <thead>\n",
              "    <tr style=\"text-align: right;\">\n",
              "      <th></th>\n",
              "      <th>variables</th>\n",
              "      <th>VIF</th>\n",
              "    </tr>\n",
              "  </thead>\n",
              "  <tbody>\n",
              "    <tr>\n",
              "      <th>0</th>\n",
              "      <td>gender</td>\n",
              "      <td>1.879536</td>\n",
              "    </tr>\n",
              "    <tr>\n",
              "      <th>1</th>\n",
              "      <td>SeniorCitizen</td>\n",
              "      <td>1.323089</td>\n",
              "    </tr>\n",
              "    <tr>\n",
              "      <th>2</th>\n",
              "      <td>Partner</td>\n",
              "      <td>2.814574</td>\n",
              "    </tr>\n",
              "    <tr>\n",
              "      <th>3</th>\n",
              "      <td>Dependents</td>\n",
              "      <td>1.908533</td>\n",
              "    </tr>\n",
              "    <tr>\n",
              "      <th>4</th>\n",
              "      <td>tenure</td>\n",
              "      <td>3.287603</td>\n",
              "    </tr>\n",
              "    <tr>\n",
              "      <th>5</th>\n",
              "      <td>PhoneService</td>\n",
              "      <td>5.963240</td>\n",
              "    </tr>\n",
              "    <tr>\n",
              "      <th>6</th>\n",
              "      <td>PaperlessBilling</td>\n",
              "      <td>2.745897</td>\n",
              "    </tr>\n",
              "    <tr>\n",
              "      <th>7</th>\n",
              "      <td>MonthlyCharges</td>\n",
              "      <td>7.453993</td>\n",
              "    </tr>\n",
              "  </tbody>\n",
              "</table>\n",
              "</div>"
            ],
            "text/plain": [
              "          variables       VIF\n",
              "0            gender  1.879536\n",
              "1     SeniorCitizen  1.323089\n",
              "2           Partner  2.814574\n",
              "3        Dependents  1.908533\n",
              "4            tenure  3.287603\n",
              "5      PhoneService  5.963240\n",
              "6  PaperlessBilling  2.745897\n",
              "7    MonthlyCharges  7.453993"
            ]
          },
          "metadata": {
            "tags": []
          },
          "execution_count": 23
        }
      ]
    },
    {
      "cell_type": "markdown",
      "metadata": {
        "id": "ljc0U4RVWDHH"
      },
      "source": [
        "The high variance inflation factor has decreased to a considerable extent. So we can move on and split out the dataset to create training and test sets."
      ]
    },
    {
      "cell_type": "markdown",
      "metadata": {
        "id": "y_ga4zeLba0W"
      },
      "source": [
        "####  <u>Concluding Remarks</u>\n",
        "\n",
        "* The dataset is imbalanced with the majority of customers being active.\n",
        "\n",
        "* Customers with a month-to-month contract have a very high probability to churn.\n",
        "\n",
        "* Most of the customers seem to have phone service with Monthly charges spanning between 18 dollars to 118 dollars per customer. \n",
        "\n",
        "* There is multicollinearity between Monthly Charges and Total Charges.\n",
        "After dropped Total Charges the VUF value has decreased considerably.\n",
        "\n",
        "* Monthly Charges and Paperless Billing have a strongest positive correlation with the target feature whilst Tenure, Dependents and Partner have a negative correlation with the target feature - \n",
        "\n",
        "* There are a lot of new customers in the organization (less than 10 months old) followed by a loyal customer base that’s above 70 months old. "
      ]
    },
    {
      "cell_type": "markdown",
      "metadata": {
        "id": "6Ha151V5Dhr-"
      },
      "source": [
        "### Data normalization"
      ]
    },
    {
      "cell_type": "markdown",
      "metadata": {
        "id": "D01cuPWHXdyh"
      },
      "source": [
        "#### <u>separate target variable</u>"
      ]
    },
    {
      "cell_type": "code",
      "metadata": {
        "id": "XaeLP5jLXuqo"
      },
      "source": [
        "target = df_clean['Churn']\n",
        "df_clean = df_clean.drop(columns='Churn')"
      ],
      "execution_count": 24,
      "outputs": []
    },
    {
      "cell_type": "markdown",
      "metadata": {
        "id": "YDfCu4ZxfOds"
      },
      "source": [
        "\n",
        "#### <u>Split dataset & generate train e test datasets</u>\n"
      ]
    },
    {
      "cell_type": "code",
      "metadata": {
        "colab": {
          "base_uri": "https://localhost:8080/"
        },
        "id": "sJ6ChH2kXXA8",
        "outputId": "0bee52cb-025c-4f5a-963d-cf3c9196534e"
      },
      "source": [
        "X_train, X_test, y_train, y_test = train_test_split(df_clean, target, stratify=target, test_size = 0.2, random_state = 0)\n",
        "\n",
        "print(\"Number transactions X_train dataset: \", X_train.shape)\n",
        "print(\"Number transactions y_train dataset: \", y_train.shape)\n",
        "print(\"Number transactions X_test dataset: \", X_test.shape)\n",
        "print(\"Number transactions y_test dataset: \", y_test.shape)"
      ],
      "execution_count": 25,
      "outputs": [
        {
          "output_type": "stream",
          "text": [
            "Number transactions X_train dataset:  (5634, 41)\n",
            "Number transactions y_train dataset:  (5634,)\n",
            "Number transactions X_test dataset:  (1409, 41)\n",
            "Number transactions y_test dataset:  (1409,)\n"
          ],
          "name": "stdout"
        }
      ]
    },
    {
      "cell_type": "markdown",
      "metadata": {
        "id": "D46FYXV6fbhv"
      },
      "source": [
        "#### <u>Remove identifiers</u>\n",
        "\n",
        "Separate ‘customerID’ from training and test data frames"
      ]
    },
    {
      "cell_type": "code",
      "metadata": {
        "id": "ILEpB-p_avqY"
      },
      "source": [
        "train_id = X_train['customerID']\n",
        "x_train = X_train.drop(columns=['customerID'], inplace=True)\n",
        "\n",
        "test_id = X_test['customerID']\n",
        "x_test = X_test.drop(columns=['customerID'], inplace=True)"
      ],
      "execution_count": 26,
      "outputs": []
    },
    {
      "cell_type": "markdown",
      "metadata": {
        "id": "neX7O3Opff6P"
      },
      "source": [
        "#### <u>Scaling features to a range</u>\n",
        "\n",
        "normalize the variables so that all the training and test variables are scaled within a range of 0 to 1."
      ]
    },
    {
      "cell_type": "code",
      "metadata": {
        "id": "Njzi7ksOmRco"
      },
      "source": [
        "sc_X = StandardScaler()\n",
        "\n",
        "# Feature scaling X_train\n",
        "X_train2 = pd.DataFrame(sc_X.fit_transform(X_train))\n",
        "X_train2.columns = X_train.columns.values\n",
        "X_train2.index = X_train.index.values\n",
        "X_train = X_train2\n",
        "\n",
        "# Feature scaling X_test\n",
        "X_test2 = pd.DataFrame(sc_X.fit_transform(X_test))\n",
        "X_test2.columns = X_test.columns.values\n",
        "X_test.index = X_test.index.values\n",
        "X_test = X_test2 "
      ],
      "execution_count": 27,
      "outputs": []
    },
    {
      "cell_type": "markdown",
      "metadata": {
        "id": "9H4eJfRfT4Ln"
      },
      "source": [
        "## **Model Selection**"
      ]
    },
    {
      "cell_type": "markdown",
      "metadata": {
        "id": "5FLph7AYVZ-L"
      },
      "source": [
        "Let’s model each classification algorithm over the training dataset and evaluate their accuracy and standard deviation scores. Let's sort the results based on the Mean AUC."
      ]
    },
    {
      "cell_type": "code",
      "metadata": {
        "id": "rvby6pCFZJUG"
      },
      "source": [
        "from sklearn.linear_model import LogisticRegression\n",
        "from sklearn.svm import SVC\n",
        "from sklearn.neighbors import KNeighborsClassifier\n",
        "from sklearn.naive_bayes import GaussianNB\n",
        "from sklearn.tree import DecisionTreeClassifier\n",
        "from sklearn.ensemble import RandomForestClassifier\n",
        "from sklearn.model_selection import KFold\n",
        "from sklearn.model_selection import cross_val_score\n",
        "from sklearn.metrics import accuracy_score\n",
        "from sklearn.metrics import precision_score\n",
        "from sklearn.metrics import recall_score\n",
        "from sklearn.metrics import f1_score\n",
        "from sklearn.metrics import fbeta_score"
      ],
      "execution_count": 28,
      "outputs": []
    },
    {
      "cell_type": "markdown",
      "metadata": {
        "id": "oGa5GFKhxZhQ"
      },
      "source": [
        "### Compare algorithms using accuracy and ROC AUC metrics "
      ]
    },
    {
      "cell_type": "markdown",
      "metadata": {
        "id": "4Owv3APkwcC6"
      },
      "source": [
        "To evaluate each model we are going to use K-Fold Cross-Validation, it will help us to fix the variance that occurs when we get good accuracy while running the model on a training set and a test set but the accuracy looks different when the model runs on another test set.\n",
        "\n",
        "In order to fix the variance problem, k-fold cross-validation basically split the training set into 10 folds and train the model on 9 folds (9 subsets of the training dataset) before testing it on the test fold. This gives us the flexibility to train our model on all ten combinations of 9 folds; giving ample room to finalize the variance."
      ]
    },
    {
      "cell_type": "code",
      "metadata": {
        "colab": {
          "base_uri": "https://localhost:8080/",
          "height": 263
        },
        "id": "PEHE2ty-XxYT",
        "outputId": "fba81ea4-b1f4-4134-acc9-50a9978fd35e"
      },
      "source": [
        "models = []\n",
        "\n",
        "models.append(('Logistic Regression', LogisticRegression(solver='liblinear', random_state=0, class_weight='balanced')))\n",
        "models.append(('SVC', SVC(kernel='linear', random_state=0)))\n",
        "models.append(('Kernel SVM', SVC(kernel='rbf', random_state=0)))\n",
        "models.append(('KNN', KNeighborsClassifier(n_neighbors=5, metric='minkowski', p=2)))\n",
        "models.append(('Gaussian NB', GaussianNB()))\n",
        "models.append(('Decision Tree', DecisionTreeClassifier(criterion='entropy', random_state=0)))\n",
        "models.append(('Random Forest', RandomForestClassifier(n_estimators=100, criterion='entropy', random_state=0)))\n",
        "\n",
        "# Evaluate model results\n",
        "acc_results = []\n",
        "auc_results = []\n",
        "names = []\n",
        "col = ['Algorithm', 'ROC AUC Mean', 'ROC AUC STD','Accuracy Mean', 'Accuracy STD']\n",
        "models_result = pd.DataFrame(columns=col)\n",
        "i = 0\n",
        "\n",
        "# Evaluate each model using k-fold cross-validation\n",
        "for name, model in models:\n",
        "  kfold = KFold(n_splits=10, random_state=0)\n",
        "  cv_acc_results = cross_val_score(model, X_train, y_train, cv=kfold, scoring='accuracy')\n",
        "  cv_auc_results = cross_val_score(model, X_train, y_train, cv=kfold, scoring='roc_auc')\n",
        "\n",
        "  acc_results.append(cv_acc_results)\n",
        "  auc_results.append(cv_auc_results)\n",
        "  names.append(name)\n",
        "  models_result.loc[i] = [name, round(cv_auc_results.mean()*100, 2), round(cv_auc_results.std()*100, 2), round(cv_acc_results.mean()*100,2), round(cv_acc_results.std()*100,2)]\n",
        "  i += 1\n",
        "\n",
        "models_result.sort_values(by=['ROC AUC Mean'], ascending=False)\n"
      ],
      "execution_count": 29,
      "outputs": [
        {
          "output_type": "execute_result",
          "data": {
            "text/html": [
              "<div>\n",
              "<style scoped>\n",
              "    .dataframe tbody tr th:only-of-type {\n",
              "        vertical-align: middle;\n",
              "    }\n",
              "\n",
              "    .dataframe tbody tr th {\n",
              "        vertical-align: top;\n",
              "    }\n",
              "\n",
              "    .dataframe thead th {\n",
              "        text-align: right;\n",
              "    }\n",
              "</style>\n",
              "<table border=\"1\" class=\"dataframe\">\n",
              "  <thead>\n",
              "    <tr style=\"text-align: right;\">\n",
              "      <th></th>\n",
              "      <th>Algorithm</th>\n",
              "      <th>ROC AUC Mean</th>\n",
              "      <th>ROC AUC STD</th>\n",
              "      <th>Accuracy Mean</th>\n",
              "      <th>Accuracy STD</th>\n",
              "    </tr>\n",
              "  </thead>\n",
              "  <tbody>\n",
              "    <tr>\n",
              "      <th>0</th>\n",
              "      <td>Logistic Regression</td>\n",
              "      <td>84.34</td>\n",
              "      <td>1.62</td>\n",
              "      <td>74.42</td>\n",
              "      <td>1.15</td>\n",
              "    </tr>\n",
              "    <tr>\n",
              "      <th>1</th>\n",
              "      <td>SVC</td>\n",
              "      <td>83.13</td>\n",
              "      <td>1.75</td>\n",
              "      <td>79.85</td>\n",
              "      <td>1.26</td>\n",
              "    </tr>\n",
              "    <tr>\n",
              "      <th>6</th>\n",
              "      <td>Random Forest</td>\n",
              "      <td>82.34</td>\n",
              "      <td>1.99</td>\n",
              "      <td>78.82</td>\n",
              "      <td>1.40</td>\n",
              "    </tr>\n",
              "    <tr>\n",
              "      <th>4</th>\n",
              "      <td>Gaussian NB</td>\n",
              "      <td>81.85</td>\n",
              "      <td>1.89</td>\n",
              "      <td>69.28</td>\n",
              "      <td>1.50</td>\n",
              "    </tr>\n",
              "    <tr>\n",
              "      <th>2</th>\n",
              "      <td>Kernel SVM</td>\n",
              "      <td>79.56</td>\n",
              "      <td>2.12</td>\n",
              "      <td>79.71</td>\n",
              "      <td>1.18</td>\n",
              "    </tr>\n",
              "    <tr>\n",
              "      <th>3</th>\n",
              "      <td>KNN</td>\n",
              "      <td>77.33</td>\n",
              "      <td>2.09</td>\n",
              "      <td>76.02</td>\n",
              "      <td>0.86</td>\n",
              "    </tr>\n",
              "    <tr>\n",
              "      <th>5</th>\n",
              "      <td>Decision Tree</td>\n",
              "      <td>66.48</td>\n",
              "      <td>2.42</td>\n",
              "      <td>73.43</td>\n",
              "      <td>1.74</td>\n",
              "    </tr>\n",
              "  </tbody>\n",
              "</table>\n",
              "</div>"
            ],
            "text/plain": [
              "             Algorithm  ROC AUC Mean  ROC AUC STD  Accuracy Mean  Accuracy STD\n",
              "0  Logistic Regression         84.34         1.62          74.42          1.15\n",
              "1                  SVC         83.13         1.75          79.85          1.26\n",
              "6        Random Forest         82.34         1.99          78.82          1.40\n",
              "4          Gaussian NB         81.85         1.89          69.28          1.50\n",
              "2           Kernel SVM         79.56         2.12          79.71          1.18\n",
              "3                  KNN         77.33         2.09          76.02          0.86\n",
              "5        Decision Tree         66.48         2.42          73.43          1.74"
            ]
          },
          "metadata": {
            "tags": []
          },
          "execution_count": 29
        }
      ]
    },
    {
      "cell_type": "markdown",
      "metadata": {
        "id": "yp3B_V9enuXf"
      },
      "source": [
        "From the first iteration Logistic Regression algortihm turn out to be the best, and SVC right behind. Let's run another iterations with other metrics. "
      ]
    },
    {
      "cell_type": "markdown",
      "metadata": {
        "id": "1Lx0GWYtxuyF"
      },
      "source": [
        "### Visualize algorithms comparison"
      ]
    },
    {
      "cell_type": "code",
      "metadata": {
        "colab": {
          "base_uri": "https://localhost:8080/",
          "height": 526
        },
        "id": "P-HCRbxhz_hc",
        "outputId": "da0446c0-3083-419e-d17c-4bbaeb52116e"
      },
      "source": [
        "fig = plt.figure(figsize=(10,8))\n",
        "ax = fig.add_subplot(111)\n",
        "plt.boxplot(x=auc_results)\n",
        "plt.title('ROC AUC score comparison \\n', fontsize='20')\n",
        "ax.set_xticklabels(names)\n",
        "\n",
        "plt.show()"
      ],
      "execution_count": 30,
      "outputs": [
        {
          "output_type": "display_data",
          "data": {
            "image/png": "[encoded data removed]",
            "text/plain": [
              "<Figure size 720x576 with 1 Axes>"
            ]
          },
          "metadata": {
            "tags": [],
            "needs_background": "light"
          }
        }
      ]
    },
    {
      "cell_type": "markdown",
      "metadata": {
        "id": "DVsh6GYcY5kb"
      },
      "source": [
        "We can see that Logistic Regression and SVC have outperformed the other five models."
      ]
    },
    {
      "cell_type": "markdown",
      "metadata": {
        "id": "oHjvltyC0h72"
      },
      "source": [
        "### Compare algorithms using Accuracy, Precision, Recall, F1 and F2 score metrics (second iteration)"
      ]
    },
    {
      "cell_type": "markdown",
      "metadata": {
        "id": "aKA6Qu6bX7Um"
      },
      "source": [
        "First, we will want to find the optimal K number for the KNN model and the optimal number of trees to apply to the Random Forest model."
      ]
    },
    {
      "cell_type": "code",
      "metadata": {
        "colab": {
          "base_uri": "https://localhost:8080/",
          "height": 551
        },
        "id": "FbbV0n9z04-A",
        "outputId": "314fa3b9-05b3-4210-8647-ef4f1684a017"
      },
      "source": [
        "# Identify optimal number of K neighbors for KNN Model:\n",
        "score_array = []\n",
        "for each in range(1,25):\n",
        "  knn_loop = KNeighborsClassifier(n_neighbors=each)\n",
        "  knn_loop.fit(X_train, y_train)\n",
        "  score_array.append(knn_loop.score(X_test, y_test))\n",
        "\n",
        "# Visualize Optimal numbers of K Neighbors\n",
        "fig = plt.figure(figsize=(10,8))\n",
        "plt.plot(range(1,25), score_array)\n",
        "\n",
        "plt.ylabel('Range\\n')\n",
        "plt.xlabel('Score\\n')\n",
        "plt.title('Optimal Number of K Neighbors \\n', fontsize = '20')\n",
        "\n",
        "plt.show()\n",
        "# Optimal number of K Neighbors = 18"
      ],
      "execution_count": 31,
      "outputs": [
        {
          "output_type": "display_data",
          "data": {
            "image/png": "[encoded data removed]",
            "text/plain": [
              "<Figure size 720x576 with 1 Axes>"
            ]
          },
          "metadata": {
            "tags": [],
            "needs_background": "light"
          }
        }
      ]
    },
    {
      "cell_type": "markdown",
      "metadata": {
        "id": "UJ3L43x0ogA5"
      },
      "source": [
        "The optimal number of K Neighbors is near 18, we are going to use this number in the second iteration."
      ]
    },
    {
      "cell_type": "code",
      "metadata": {
        "colab": {
          "base_uri": "https://localhost:8080/",
          "height": 551
        },
        "id": "ZElNm_Az2sFM",
        "outputId": "00bc927a-3460-4ebd-9525-3403f8cd1f95"
      },
      "source": [
        "# Optimal number of trees for Random Forest Model\n",
        "score_array = []\n",
        "for each in range(1,100):\n",
        "  rf_loop = RandomForestClassifier(n_estimators=each, random_state=1)\n",
        "  rf_loop.fit(X_train, y_train)\n",
        "  score_array.append(rf_loop.score(X_test, y_test))\n",
        "\n",
        "# Visualize optimal number of trees \n",
        "fig = plt.figure(figsize=(10,8))\n",
        "plt.plot(range(1,100), score_array)\n",
        "\n",
        "plt.ylabel('Range\\n')\n",
        "plt.xlabel('Score\\n')\n",
        "plt.title('Optimal Number of Trees \\n', fontsize = '20')\n",
        "\n",
        "plt.show()\n",
        "\n",
        "#Optimal number of decision trees = 40"
      ],
      "execution_count": 32,
      "outputs": [
        {
          "output_type": "display_data",
          "data": {
            "image/png": "[encoded data removed]",
            "text/plain": [
              "<Figure size 720x576 with 1 Axes>"
            ]
          },
          "metadata": {
            "tags": [],
            "needs_background": "light"
          }
        }
      ]
    },
    {
      "cell_type": "markdown",
      "metadata": {
        "id": "EXuBL3FBow4I"
      },
      "source": [
        "The optimal number of Trees is near 40, we are going to use this number in the second iteration."
      ]
    },
    {
      "cell_type": "markdown",
      "metadata": {
        "id": "H82iSLRhT4q8"
      },
      "source": [
        "Now, we are going to create a function to compare the performance of each classification algorithm.\n",
        "\n",
        "* **Accuracy**: A ratio of correctly predicted observation to the total observations.\n",
        "\n",
        "* **Precision**: The ratio of correctly predicted positive observations to the total predicted positive observations.\n",
        "\n",
        "* **Recall**: The ratio of correctly predicted positive observations to all observations in actual class 1.\n",
        "\n",
        "* **F1**: The weighted average of Precision and Recall, giving each the same weighting.\n",
        "\n",
        "* **F2**: Gives less weight to precision and more weight to recall in the calculation of the score. "
      ]
    },
    {
      "cell_type": "code",
      "metadata": {
        "id": "EjNIggZU4Ifc"
      },
      "source": [
        "# Compare algoritmhs\n",
        "def compare_models(classifier):\n",
        "  classifier.fit(X_train, y_train)\n",
        "  y_hat = classifier.predict(X_test)\n",
        "\n",
        "  # Evaluate results\n",
        "  acc = accuracy_score(y_test, y_hat)\n",
        "  prec = precision_score(y_test, y_hat)\n",
        "  rec = recall_score(y_test, y_hat)\n",
        "  f1 = f1_score(y_test, y_hat)\n",
        "  f2 = fbeta_score(y_test, y_hat, beta=2.0)\n",
        "\n",
        "  col = ['Model', 'Accuracy', 'Precision', 'Recall', 'F1', 'F2 Score']\n",
        "  results = pd.DataFrame([[classifier.__class__.__name__, acc, prec, rec, f1, f2 ]], columns=col)\n",
        "\n",
        "  return results"
      ],
      "execution_count": 33,
      "outputs": []
    },
    {
      "cell_type": "code",
      "metadata": {
        "id": "TSs3y0pjWrDP"
      },
      "source": [
        "lr = compare_models(LogisticRegression(random_state=0))\n",
        "svc = compare_models(SVC(kernel='linear', random_state=0))\n",
        "knn = compare_models(KNeighborsClassifier(n_neighbors=18, metric='minkowski', p=2))\n",
        "svc_kernel = compare_models(SVC(kernel = 'rbf', random_state = 0))\n",
        "gaussian = compare_models(GaussianNB())\n",
        "decision_tree = compare_models(DecisionTreeClassifier(criterion='entropy', random_state = 0))\n",
        "random_forest = compare_models(RandomForestClassifier(n_estimators=40,criterion='entropy', random_state=0))\n"
      ],
      "execution_count": 34,
      "outputs": []
    },
    {
      "cell_type": "code",
      "metadata": {
        "id": "YfeFqtX1jHyr"
      },
      "source": [
        "frames = [lr, svc, knn, svc_kernel, gaussian, decision_tree, random_forest]\n",
        "final_comparison = pd.concat(frames)"
      ],
      "execution_count": 35,
      "outputs": []
    },
    {
      "cell_type": "markdown",
      "metadata": {
        "id": "H9axB7ejkrlh"
      },
      "source": [
        "The fisrt SVC is linear and the second is the SVM Kernel"
      ]
    },
    {
      "cell_type": "code",
      "metadata": {
        "colab": {
          "base_uri": "https://localhost:8080/",
          "height": 263
        },
        "id": "zzS8pgqRju85",
        "outputId": "83e830e2-7134-4721-d3a2-1eb51c4507e6"
      },
      "source": [
        "final_comparison.sort_values(['Precision', 'Recall', 'F2 Score'], ascending=False) "
      ],
      "execution_count": 36,
      "outputs": [
        {
          "output_type": "execute_result",
          "data": {
            "text/html": [
              "<div>\n",
              "<style scoped>\n",
              "    .dataframe tbody tr th:only-of-type {\n",
              "        vertical-align: middle;\n",
              "    }\n",
              "\n",
              "    .dataframe tbody tr th {\n",
              "        vertical-align: top;\n",
              "    }\n",
              "\n",
              "    .dataframe thead th {\n",
              "        text-align: right;\n",
              "    }\n",
              "</style>\n",
              "<table border=\"1\" class=\"dataframe\">\n",
              "  <thead>\n",
              "    <tr style=\"text-align: right;\">\n",
              "      <th></th>\n",
              "      <th>Model</th>\n",
              "      <th>Accuracy</th>\n",
              "      <th>Precision</th>\n",
              "      <th>Recall</th>\n",
              "      <th>F1</th>\n",
              "      <th>F2 Score</th>\n",
              "    </tr>\n",
              "  </thead>\n",
              "  <tbody>\n",
              "    <tr>\n",
              "      <th>0</th>\n",
              "      <td>SVC</td>\n",
              "      <td>0.802697</td>\n",
              "      <td>0.650000</td>\n",
              "      <td>0.556150</td>\n",
              "      <td>0.599424</td>\n",
              "      <td>0.572687</td>\n",
              "    </tr>\n",
              "    <tr>\n",
              "      <th>0</th>\n",
              "      <td>LogisticRegression</td>\n",
              "      <td>0.801987</td>\n",
              "      <td>0.644377</td>\n",
              "      <td>0.566845</td>\n",
              "      <td>0.603129</td>\n",
              "      <td>0.580822</td>\n",
              "    </tr>\n",
              "    <tr>\n",
              "      <th>0</th>\n",
              "      <td>SVC</td>\n",
              "      <td>0.789922</td>\n",
              "      <td>0.632653</td>\n",
              "      <td>0.497326</td>\n",
              "      <td>0.556886</td>\n",
              "      <td>0.519553</td>\n",
              "    </tr>\n",
              "    <tr>\n",
              "      <th>0</th>\n",
              "      <td>RandomForestClassifier</td>\n",
              "      <td>0.787083</td>\n",
              "      <td>0.628472</td>\n",
              "      <td>0.483957</td>\n",
              "      <td>0.546828</td>\n",
              "      <td>0.507287</td>\n",
              "    </tr>\n",
              "    <tr>\n",
              "      <th>0</th>\n",
              "      <td>KNeighborsClassifier</td>\n",
              "      <td>0.775727</td>\n",
              "      <td>0.582857</td>\n",
              "      <td>0.545455</td>\n",
              "      <td>0.563536</td>\n",
              "      <td>0.552546</td>\n",
              "    </tr>\n",
              "    <tr>\n",
              "      <th>0</th>\n",
              "      <td>DecisionTreeClassifier</td>\n",
              "      <td>0.732434</td>\n",
              "      <td>0.496333</td>\n",
              "      <td>0.542781</td>\n",
              "      <td>0.518519</td>\n",
              "      <td>0.532808</td>\n",
              "    </tr>\n",
              "    <tr>\n",
              "      <th>0</th>\n",
              "      <td>GaussianNB</td>\n",
              "      <td>0.703336</td>\n",
              "      <td>0.467359</td>\n",
              "      <td>0.842246</td>\n",
              "      <td>0.601145</td>\n",
              "      <td>0.725806</td>\n",
              "    </tr>\n",
              "  </tbody>\n",
              "</table>\n",
              "</div>"
            ],
            "text/plain": [
              "                    Model  Accuracy  Precision    Recall        F1  F2 Score\n",
              "0                     SVC  0.802697   0.650000  0.556150  0.599424  0.572687\n",
              "0      LogisticRegression  0.801987   0.644377  0.566845  0.603129  0.580822\n",
              "0                     SVC  0.789922   0.632653  0.497326  0.556886  0.519553\n",
              "0  RandomForestClassifier  0.787083   0.628472  0.483957  0.546828  0.507287\n",
              "0    KNeighborsClassifier  0.775727   0.582857  0.545455  0.563536  0.552546\n",
              "0  DecisionTreeClassifier  0.732434   0.496333  0.542781  0.518519  0.532808\n",
              "0              GaussianNB  0.703336   0.467359  0.842246  0.601145  0.725806"
            ]
          },
          "metadata": {
            "tags": []
          },
          "execution_count": 36
        }
      ]
    },
    {
      "cell_type": "markdown",
      "metadata": {
        "id": "GxtK0JOjnkWf"
      },
      "source": [
        "In the first iteration, the Logistic Regression algorithm proved to be more effective, staying ahead of the SVC Linear by a few points. In the second iteration, the SCV Linear algorithm proved to be more effective in the Precision score, but the Linear Regression became more efficient in the Recall and F2 Score. So we are going to implement the Logistic Regression algorithm."
      ]
    },
    {
      "cell_type": "markdown",
      "metadata": {
        "id": "OUP3zaPvnd0t"
      },
      "source": [
        "## **Model Evaluation**\n"
      ]
    },
    {
      "cell_type": "code",
      "metadata": {
        "colab": {
          "base_uri": "https://localhost:8080/"
        },
        "id": "0I3qRt-pvSBs",
        "outputId": "689bd2e0-53e5-45c0-962c-98e4bf63d00d"
      },
      "source": [
        "# Train & Evaluate model\n",
        "classifier = LogisticRegression(random_state = 0, penalty='l2')\n",
        "classifier.fit(X_train, y_train)\n",
        "\n",
        "# Predict the Test set results\n",
        "y_hat = classifier.predict(X_test)\n",
        "\n",
        "#Evaluate Model Results on Test Set:\n",
        "acc = accuracy_score(y_test, y_hat )\n",
        "prec = precision_score(y_test, y_hat )\n",
        "rec = recall_score(y_test, y_hat )\n",
        "f1 = f1_score(y_test, y_hat )\n",
        "f2 = fbeta_score(y_test, y_hat, beta=2.0)\n",
        "\n",
        "results = pd.DataFrame([['Logistic Regression', acc, prec, rec, f1, f2]],\n",
        "               columns = ['Model', 'Accuracy', 'Precision', 'Recall', 'F1 Score', 'F2 Score'])\n",
        "\n",
        "print (results)"
      ],
      "execution_count": 37,
      "outputs": [
        {
          "output_type": "stream",
          "text": [
            "                 Model  Accuracy  Precision    Recall  F1 Score  F2 Score\n",
            "0  Logistic Regression  0.801987   0.644377  0.566845  0.603129  0.580822\n"
          ],
          "name": "stdout"
        }
      ]
    },
    {
      "cell_type": "code",
      "metadata": {
        "colab": {
          "base_uri": "https://localhost:8080/"
        },
        "id": "BNd_lvT6tZ0F",
        "outputId": "9b275493-1fff-4d11-ef47-51ae24799dea"
      },
      "source": [
        "# Re-chack K-Fold Cross Validation\n",
        "accuracies = cross_val_score(estimator = classifier, X = X_train, y = y_train, cv = 10)\n",
        "print('Logistic Regression Classification Accuracy: %0.2f (+/- %0.2f)'  % (accuracies.mean(), accuracies.std() * 2))"
      ],
      "execution_count": 38,
      "outputs": [
        {
          "output_type": "stream",
          "text": [
            "Logistic Regression Classification Accuracy: 0.80 (+/- 0.04)\n"
          ],
          "name": "stdout"
        }
      ]
    },
    {
      "cell_type": "markdown",
      "metadata": {
        "id": "83btoM-Uv0y_"
      },
      "source": [
        "The k-fold Cross Validation results indicate that we would have an accuracy anywhere between 76% to 84% while running this model on any test set."
      ]
    },
    {
      "cell_type": "markdown",
      "metadata": {
        "id": "Ka8HUuEJxgoO"
      },
      "source": [
        "### Visualize Confusion Matrix"
      ]
    },
    {
      "cell_type": "code",
      "metadata": {
        "id": "8EPv-an8xbwN"
      },
      "source": [
        "from sklearn.metrics import confusion_matrix"
      ],
      "execution_count": 39,
      "outputs": []
    },
    {
      "cell_type": "code",
      "metadata": {
        "colab": {
          "base_uri": "https://localhost:8080/",
          "height": 367
        },
        "id": "hpFWmMvByOwf",
        "outputId": "29a3f80c-2a62-4c04-d65c-8771e3452c98"
      },
      "source": [
        "cm = confusion_matrix(y_test, y_hat) \n",
        "df_cm = pd.DataFrame(cm, index = (0, 1), columns = (0, 1))\n",
        "plt.figure(figsize = (28,20))\n",
        "fig, ax = plt.subplots()\n",
        "sns.set(font_scale=1.4)\n",
        "sns.heatmap(df_cm, annot=True, fmt='g',cmap=\"YlGnBu\")\n",
        "class_names=[0,1]\n",
        "tick_marks = np.arange(len(class_names))\n",
        "plt.tight_layout()\n",
        "plt.title('Confusion matrix\\n', y=1.1)\n",
        "plt.ylabel('Actual label\\n')\n",
        "plt.xlabel('Predicted label\\n')\n",
        "plt.xticks(tick_marks, class_names)\n",
        "plt.yticks(tick_marks, class_names)\n",
        "\n",
        "\n",
        "plt.show()"
      ],
      "execution_count": 40,
      "outputs": [
        {
          "output_type": "display_data",
          "data": {
            "text/plain": [
              "<Figure size 2016x1440 with 0 Axes>"
            ]
          },
          "metadata": {
            "tags": []
          }
        },
        {
          "output_type": "display_data",
          "data": {
            "image/png": "[encoded data removed]",
            "text/plain": [
              "<Figure size 432x288 with 2 Axes>"
            ]
          },
          "metadata": {
            "tags": [],
            "needs_background": "light"
          }
        }
      ]
    },
    {
      "cell_type": "markdown",
      "metadata": {
        "id": "eCPBaHu-1FEy"
      },
      "source": [
        "The Confusion matrix indicates that we have 212+918 correct predictions and 162+117 incorrect predictions\n"
      ]
    },
    {
      "cell_type": "markdown",
      "metadata": {
        "id": "BIm8Ezx_1Rh_"
      },
      "source": [
        "### Pedict Feature importance"
      ]
    },
    {
      "cell_type": "markdown",
      "metadata": {
        "id": "QCitFLSlIir3"
      },
      "source": [
        "Feature importance indicates the relative importance of each feature when making a prediction. \n",
        "\n",
        "The scores can tell us a lot in a predictive modeling project:\n",
        "\n",
        "* **provide insight into the dataset**: Highlight which features may be most relevant to the target and which features are the least relevant.\n",
        "\n",
        "* **provide insight into the model**: The scores provide insights into which features are the most important and least important to the model when making a prediction\n",
        "\n",
        "* **improve a predictive model**: Using the importance scores to selecting lowest scores features to delete or highest scores features to keep. Deleting features is called dimensionality reduction, and in some cases, improves the performance of the model. We won't be applying dimensionality reduction to this model.\n",
        "\n",
        "since we are implementing the logistic regression algorithm, we will calculate simple coefficient statistics between each feature and the target variable."
      ]
    },
    {
      "cell_type": "code",
      "metadata": {
        "colab": {
          "base_uri": "https://localhost:8080/",
          "height": 1000
        },
        "id": "KLmJI4N_y0SS",
        "outputId": "e7076ea0-c1a9-445d-9aa7-f12dd2984d79"
      },
      "source": [
        "importance = classifier.coef_[0]\n",
        "feature_importances = pd.concat([pd.DataFrame(df_clean.drop(columns = ['customerID']).columns, columns = [\"features\"]),\n",
        "           pd.DataFrame(np.transpose(importance), columns = [\"coef\"])],axis = 1,)\n",
        "feature_importance_scores = feature_importances.sort_values(\"coef\", ascending = False).reset_index()\n",
        "feature_importance_scores"
      ],
      "execution_count": 41,
      "outputs": [
        {
          "output_type": "execute_result",
          "data": {
            "text/html": [
              "<div>\n",
              "<style scoped>\n",
              "    .dataframe tbody tr th:only-of-type {\n",
              "        vertical-align: middle;\n",
              "    }\n",
              "\n",
              "    .dataframe tbody tr th {\n",
              "        vertical-align: top;\n",
              "    }\n",
              "\n",
              "    .dataframe thead th {\n",
              "        text-align: right;\n",
              "    }\n",
              "</style>\n",
              "<table border=\"1\" class=\"dataframe\">\n",
              "  <thead>\n",
              "    <tr style=\"text-align: right;\">\n",
              "      <th></th>\n",
              "      <th>index</th>\n",
              "      <th>features</th>\n",
              "      <th>coef</th>\n",
              "    </tr>\n",
              "  </thead>\n",
              "  <tbody>\n",
              "    <tr>\n",
              "      <th>0</th>\n",
              "      <td>8</td>\n",
              "      <td>TotalCharges</td>\n",
              "      <td>0.673395</td>\n",
              "    </tr>\n",
              "    <tr>\n",
              "      <th>1</th>\n",
              "      <td>30</td>\n",
              "      <td>Contract_Month-to-month</td>\n",
              "      <td>0.314625</td>\n",
              "    </tr>\n",
              "    <tr>\n",
              "      <th>2</th>\n",
              "      <td>13</td>\n",
              "      <td>InternetService_Fiber optic</td>\n",
              "      <td>0.313501</td>\n",
              "    </tr>\n",
              "    <tr>\n",
              "      <th>3</th>\n",
              "      <td>6</td>\n",
              "      <td>PaperlessBilling</td>\n",
              "      <td>0.168015</td>\n",
              "    </tr>\n",
              "    <tr>\n",
              "      <th>4</th>\n",
              "      <td>29</td>\n",
              "      <td>StreamingTV_Yes</td>\n",
              "      <td>0.124398</td>\n",
              "    </tr>\n",
              "    <tr>\n",
              "      <th>5</th>\n",
              "      <td>15</td>\n",
              "      <td>OnlineSecurity_No</td>\n",
              "      <td>0.123156</td>\n",
              "    </tr>\n",
              "    <tr>\n",
              "      <th>6</th>\n",
              "      <td>39</td>\n",
              "      <td>StreamingMovies_Yes</td>\n",
              "      <td>0.120994</td>\n",
              "    </tr>\n",
              "    <tr>\n",
              "      <th>7</th>\n",
              "      <td>35</td>\n",
              "      <td>PaymentMethod_Electronic check</td>\n",
              "      <td>0.116749</td>\n",
              "    </tr>\n",
              "    <tr>\n",
              "      <th>8</th>\n",
              "      <td>24</td>\n",
              "      <td>TechSupport_No</td>\n",
              "      <td>0.101388</td>\n",
              "    </tr>\n",
              "    <tr>\n",
              "      <th>9</th>\n",
              "      <td>11</td>\n",
              "      <td>MultipleLines_Yes</td>\n",
              "      <td>0.078749</td>\n",
              "    </tr>\n",
              "    <tr>\n",
              "      <th>10</th>\n",
              "      <td>1</td>\n",
              "      <td>SeniorCitizen</td>\n",
              "      <td>0.078391</td>\n",
              "    </tr>\n",
              "    <tr>\n",
              "      <th>11</th>\n",
              "      <td>18</td>\n",
              "      <td>OnlineBackup_No</td>\n",
              "      <td>0.062466</td>\n",
              "    </tr>\n",
              "    <tr>\n",
              "      <th>12</th>\n",
              "      <td>23</td>\n",
              "      <td>DeviceProtection_Yes</td>\n",
              "      <td>0.041064</td>\n",
              "    </tr>\n",
              "    <tr>\n",
              "      <th>13</th>\n",
              "      <td>21</td>\n",
              "      <td>DeviceProtection_No</td>\n",
              "      <td>0.028980</td>\n",
              "    </tr>\n",
              "    <tr>\n",
              "      <th>14</th>\n",
              "      <td>10</td>\n",
              "      <td>MultipleLines_No phone service</td>\n",
              "      <td>0.007995</td>\n",
              "    </tr>\n",
              "    <tr>\n",
              "      <th>15</th>\n",
              "      <td>20</td>\n",
              "      <td>OnlineBackup_Yes</td>\n",
              "      <td>0.005997</td>\n",
              "    </tr>\n",
              "    <tr>\n",
              "      <th>16</th>\n",
              "      <td>5</td>\n",
              "      <td>PhoneService</td>\n",
              "      <td>-0.007995</td>\n",
              "    </tr>\n",
              "    <tr>\n",
              "      <th>17</th>\n",
              "      <td>2</td>\n",
              "      <td>Partner</td>\n",
              "      <td>-0.008064</td>\n",
              "    </tr>\n",
              "    <tr>\n",
              "      <th>18</th>\n",
              "      <td>33</td>\n",
              "      <td>PaymentMethod_Bank transfer (automatic)</td>\n",
              "      <td>-0.023195</td>\n",
              "    </tr>\n",
              "    <tr>\n",
              "      <th>19</th>\n",
              "      <td>26</td>\n",
              "      <td>TechSupport_Yes</td>\n",
              "      <td>-0.037528</td>\n",
              "    </tr>\n",
              "    <tr>\n",
              "      <th>20</th>\n",
              "      <td>0</td>\n",
              "      <td>gender</td>\n",
              "      <td>-0.040292</td>\n",
              "    </tr>\n",
              "    <tr>\n",
              "      <th>21</th>\n",
              "      <td>31</td>\n",
              "      <td>Contract_One year</td>\n",
              "      <td>-0.041361</td>\n",
              "    </tr>\n",
              "    <tr>\n",
              "      <th>22</th>\n",
              "      <td>36</td>\n",
              "      <td>PaymentMethod_Mailed check</td>\n",
              "      <td>-0.049706</td>\n",
              "    </tr>\n",
              "    <tr>\n",
              "      <th>23</th>\n",
              "      <td>37</td>\n",
              "      <td>StreamingMovies_No</td>\n",
              "      <td>-0.051259</td>\n",
              "    </tr>\n",
              "    <tr>\n",
              "      <th>24</th>\n",
              "      <td>27</td>\n",
              "      <td>StreamingTV_No</td>\n",
              "      <td>-0.054124</td>\n",
              "    </tr>\n",
              "    <tr>\n",
              "      <th>25</th>\n",
              "      <td>34</td>\n",
              "      <td>PaymentMethod_Credit card (automatic)</td>\n",
              "      <td>-0.059281</td>\n",
              "    </tr>\n",
              "    <tr>\n",
              "      <th>26</th>\n",
              "      <td>17</td>\n",
              "      <td>OnlineSecurity_Yes</td>\n",
              "      <td>-0.061270</td>\n",
              "    </tr>\n",
              "    <tr>\n",
              "      <th>27</th>\n",
              "      <td>3</td>\n",
              "      <td>Dependents</td>\n",
              "      <td>-0.067624</td>\n",
              "    </tr>\n",
              "    <tr>\n",
              "      <th>28</th>\n",
              "      <td>38</td>\n",
              "      <td>StreamingMovies_No internet service</td>\n",
              "      <td>-0.081786</td>\n",
              "    </tr>\n",
              "    <tr>\n",
              "      <th>29</th>\n",
              "      <td>16</td>\n",
              "      <td>OnlineSecurity_No internet service</td>\n",
              "      <td>-0.081786</td>\n",
              "    </tr>\n",
              "    <tr>\n",
              "      <th>30</th>\n",
              "      <td>25</td>\n",
              "      <td>TechSupport_No internet service</td>\n",
              "      <td>-0.081786</td>\n",
              "    </tr>\n",
              "    <tr>\n",
              "      <th>31</th>\n",
              "      <td>22</td>\n",
              "      <td>DeviceProtection_No internet service</td>\n",
              "      <td>-0.081786</td>\n",
              "    </tr>\n",
              "    <tr>\n",
              "      <th>32</th>\n",
              "      <td>19</td>\n",
              "      <td>OnlineBackup_No internet service</td>\n",
              "      <td>-0.081786</td>\n",
              "    </tr>\n",
              "    <tr>\n",
              "      <th>33</th>\n",
              "      <td>14</td>\n",
              "      <td>InternetService_No</td>\n",
              "      <td>-0.081786</td>\n",
              "    </tr>\n",
              "    <tr>\n",
              "      <th>34</th>\n",
              "      <td>28</td>\n",
              "      <td>StreamingTV_No internet service</td>\n",
              "      <td>-0.081786</td>\n",
              "    </tr>\n",
              "    <tr>\n",
              "      <th>35</th>\n",
              "      <td>9</td>\n",
              "      <td>MultipleLines_No</td>\n",
              "      <td>-0.082451</td>\n",
              "    </tr>\n",
              "    <tr>\n",
              "      <th>36</th>\n",
              "      <td>12</td>\n",
              "      <td>InternetService_DSL</td>\n",
              "      <td>-0.254947</td>\n",
              "    </tr>\n",
              "    <tr>\n",
              "      <th>37</th>\n",
              "      <td>32</td>\n",
              "      <td>Contract_Two year</td>\n",
              "      <td>-0.327659</td>\n",
              "    </tr>\n",
              "    <tr>\n",
              "      <th>38</th>\n",
              "      <td>7</td>\n",
              "      <td>MonthlyCharges</td>\n",
              "      <td>-0.546519</td>\n",
              "    </tr>\n",
              "    <tr>\n",
              "      <th>39</th>\n",
              "      <td>4</td>\n",
              "      <td>tenure</td>\n",
              "      <td>-1.367140</td>\n",
              "    </tr>\n",
              "  </tbody>\n",
              "</table>\n",
              "</div>"
            ],
            "text/plain": [
              "    index                                 features      coef\n",
              "0       8                             TotalCharges  0.673395\n",
              "1      30                  Contract_Month-to-month  0.314625\n",
              "2      13              InternetService_Fiber optic  0.313501\n",
              "3       6                         PaperlessBilling  0.168015\n",
              "4      29                          StreamingTV_Yes  0.124398\n",
              "5      15                        OnlineSecurity_No  0.123156\n",
              "6      39                      StreamingMovies_Yes  0.120994\n",
              "7      35           PaymentMethod_Electronic check  0.116749\n",
              "8      24                           TechSupport_No  0.101388\n",
              "9      11                        MultipleLines_Yes  0.078749\n",
              "10      1                            SeniorCitizen  0.078391\n",
              "11     18                          OnlineBackup_No  0.062466\n",
              "12     23                     DeviceProtection_Yes  0.041064\n",
              "13     21                      DeviceProtection_No  0.028980\n",
              "14     10           MultipleLines_No phone service  0.007995\n",
              "15     20                         OnlineBackup_Yes  0.005997\n",
              "16      5                             PhoneService -0.007995\n",
              "17      2                                  Partner -0.008064\n",
              "18     33  PaymentMethod_Bank transfer (automatic) -0.023195\n",
              "19     26                          TechSupport_Yes -0.037528\n",
              "20      0                                   gender -0.040292\n",
              "21     31                        Contract_One year -0.041361\n",
              "22     36               PaymentMethod_Mailed check -0.049706\n",
              "23     37                       StreamingMovies_No -0.051259\n",
              "24     27                           StreamingTV_No -0.054124\n",
              "25     34    PaymentMethod_Credit card (automatic) -0.059281\n",
              "26     17                       OnlineSecurity_Yes -0.061270\n",
              "27      3                               Dependents -0.067624\n",
              "28     38      StreamingMovies_No internet service -0.081786\n",
              "29     16       OnlineSecurity_No internet service -0.081786\n",
              "30     25          TechSupport_No internet service -0.081786\n",
              "31     22     DeviceProtection_No internet service -0.081786\n",
              "32     19         OnlineBackup_No internet service -0.081786\n",
              "33     14                       InternetService_No -0.081786\n",
              "34     28          StreamingTV_No internet service -0.081786\n",
              "35      9                         MultipleLines_No -0.082451\n",
              "36     12                      InternetService_DSL -0.254947\n",
              "37     32                        Contract_Two year -0.327659\n",
              "38      7                           MonthlyCharges -0.546519\n",
              "39      4                                   tenure -1.367140"
            ]
          },
          "metadata": {
            "tags": []
          },
          "execution_count": 41
        }
      ]
    },
    {
      "cell_type": "code",
      "metadata": {
        "colab": {
          "base_uri": "https://localhost:8080/",
          "height": 316
        },
        "id": "7HpcgfzOZGn1",
        "outputId": "2a7db47f-658c-4501-b090-b5a32674e4fa"
      },
      "source": [
        "# Plot feature importance chart\n",
        "fig = plt.figure(figsize=(10,6))\n",
        "plt.subplots_adjust(right=2.1, wspace=0.8)\n",
        "\n",
        "ax_1 = fig.add_subplot(121)\n",
        "pd.Series(importance, index=feature_importances.features).nsmallest(6).plot.barh(color='#64BCD9')  \n",
        "plt.title('Feature Importance:\\n negative correlation with churn rate', y=1.1)\n",
        "\n",
        "ax_2 = fig.add_subplot(122)\n",
        "pd.Series(importance, index=feature_importances.features).nlargest(6).plot.barh(color='#E8C9C1')  \n",
        "plt.title('Feature Importance:\\n churn rate increase positively', y=1.1)\n",
        "\n",
        "plt.show()"
      ],
      "execution_count": 42,
      "outputs": [
        {
          "output_type": "display_data",
          "data": {
            "image/png": "[encoded data removed]",
            "text/plain": [
              "<Figure size 720x432 with 2 Axes>"
            ]
          },
          "metadata": {
            "tags": []
          }
        }
      ]
    },
    {
      "cell_type": "markdown",
      "metadata": {
        "id": "1rwSOCbtwYJ7"
      },
      "source": [
        "From these graphs, we can conclude that customers who choose the two-year contract, DSL internet service, do not opt ​​for internet service or multiple lines are more likely to remain as a company customer. Customers who opt for monthly contracts, fiber optics, electronic checks, and subscribing to the streaming service on TV are more likely to abandon the company's services."
      ]
    },
    {
      "cell_type": "markdown",
      "metadata": {
        "id": "UWBJfXvbMviR"
      },
      "source": [
        "## **Hyperparameter Tuning**"
      ]
    },
    {
      "cell_type": "markdown",
      "metadata": {
        "id": "w1i8LSaCOpW9"
      },
      "source": [
        "choosing the best parameters for the machine learning model. here are two types of parameters in any machine learning model — the first type are the kind of parameters that the model learns; the optimal values automatically found by running the model. The second type of parameters is the ones that user get to choose while running the model. Such parameters are called the hyperparameters"
      ]
    },
    {
      "cell_type": "code",
      "metadata": {
        "id": "oeKVWufEQuuU"
      },
      "source": [
        "from sklearn.model_selection import GridSearchCV\n",
        "from sklearn.model_selection import RepeatedStratifiedKFold"
      ],
      "execution_count": 43,
      "outputs": []
    },
    {
      "cell_type": "markdown",
      "metadata": {
        "id": "FCxtrmoojV5V"
      },
      "source": [
        "### Selecting best hyperparameters"
      ]
    },
    {
      "cell_type": "code",
      "metadata": {
        "colab": {
          "base_uri": "https://localhost:8080/"
        },
        "id": "aI8XVtJgxGuE",
        "outputId": "eeddde27-c05a-45c2-9817-aa71071eb3ef"
      },
      "source": [
        "penalty = ['l1', 'l2']\n",
        "C = [0.0001, 0.001, 0.01, 0.1, 1, 10, 100, 1000]\n",
        "class_weight = [{1:0.5, 0:0.5}, {1:0.4, 0:0.6}, {1:0.6, 0:0.4}, {1:0.7, 0:0.3}]\n",
        "solver = ['liblinear', 'saga']\n",
        "\n",
        "# define grid search\n",
        "param_grid = dict(penalty=penalty, C=C, class_weight=class_weight, solver=solver)\n",
        "grid = GridSearchCV(estimator=classifier, param_grid=param_grid, scoring='roc_auc', verbose=1, n_jobs=-1)\n",
        "grid_result = grid.fit(X_train, y_train)\n",
        "\n",
        "# summarize results\n",
        "print('Best Score: ', grid_result.best_score_)\n",
        "print('Best Params: ', grid_result.best_params_)"
      ],
      "execution_count": 44,
      "outputs": [
        {
          "output_type": "stream",
          "text": [
            "Fitting 5 folds for each of 128 candidates, totalling 640 fits\n"
          ],
          "name": "stdout"
        },
        {
          "output_type": "stream",
          "text": [
            "[Parallel(n_jobs=-1)]: Using backend LokyBackend with 2 concurrent workers.\n",
            "[Parallel(n_jobs=-1)]: Done 202 tasks      | elapsed:    5.7s\n",
            "[Parallel(n_jobs=-1)]: Done 506 tasks      | elapsed:   58.6s\n",
            "[Parallel(n_jobs=-1)]: Done 640 out of 640 | elapsed:  1.7min finished\n"
          ],
          "name": "stderr"
        },
        {
          "output_type": "stream",
          "text": [
            "Best Score:  0.8438153709161955\n",
            "Best Params:  {'C': 1000, 'class_weight': {1: 0.5, 0: 0.5}, 'penalty': 'l2', 'solver': 'saga'}\n"
          ],
          "name": "stdout"
        }
      ]
    },
    {
      "cell_type": "markdown",
      "metadata": {
        "id": "nWlyTYLkF18n"
      },
      "source": [
        "Hyperparameter tuning improved the model from 80% to 84%. Next step is apply the best parameters and fit the model."
      ]
    },
    {
      "cell_type": "markdown",
      "metadata": {
        "id": "tzTlcDGPjbAd"
      },
      "source": [
        "### Implementing best parameters"
      ]
    },
    {
      "cell_type": "code",
      "metadata": {
        "id": "l6xzYPXC5RzU"
      },
      "source": [
        "def get_cv_scores(classifier):\n",
        "    scores = cross_val_score(classifier, X_train, y_train, cv=5, scoring='roc_auc')\n",
        "    print('Cross Validation Mean: ', np.mean(scores))\n",
        "    print('Standard Derivation: ', np.std(scores))"
      ],
      "execution_count": 45,
      "outputs": []
    },
    {
      "cell_type": "code",
      "metadata": {
        "colab": {
          "base_uri": "https://localhost:8080/"
        },
        "id": "v3bdSshp3g63",
        "outputId": "773d84ee-2a88-4ade-c9d9-3e58d41d829e"
      },
      "source": [
        "classifier = LogisticRegression(C=1000, class_weight={1: 0.5, 0: 0.5}, penalty='l2', solver='saga')\n",
        "classifier.fit(X_train, y_train)\n",
        "\n",
        "# Predict the Test set results\n",
        "y_hat = classifier.predict(X_test)\n",
        "\n",
        "#probability score\n",
        "y_hat_prob = classifier.predict_proba(X_test)\n",
        "y_hat_prob  = y_hat_prob [:, 1]\n",
        "\n",
        "# summarize results\n",
        "get_cv_scores(classifier)"
      ],
      "execution_count": 46,
      "outputs": [
        {
          "output_type": "stream",
          "text": [
            "Cross Validation Mean:  0.8438129483556391\n",
            "Standard Derivation:  0.012852199160860575\n"
          ],
          "name": "stdout"
        }
      ]
    },
    {
      "cell_type": "markdown",
      "metadata": {
        "id": "kue4pTkT8O_G"
      },
      "source": [
        "A low standard deviation indicates that the values tend to be close the expected value of the set."
      ]
    },
    {
      "cell_type": "markdown",
      "metadata": {
        "id": "-2bX3_2E-sC8"
      },
      "source": [
        "## **Final results**"
      ]
    },
    {
      "cell_type": "markdown",
      "metadata": {
        "id": "h6lDAhgSGVzf"
      },
      "source": [
        "Now that we have applied the best parameters for our logistic regression model, we will present the final results on a dataframe together with the probability of the client changing state (not churned and churned), the churn forecast for each client, and a ranking score for the clients. customers most likely to change state.\n"
      ]
    },
    {
      "cell_type": "code",
      "metadata": {
        "id": "Db8kEW-T-rsY"
      },
      "source": [
        "final_results = pd.concat([test_id, y_test], axis = 1).dropna()\n",
        "\n",
        "final_results['predictions'] = y_hat \n",
        "\n",
        "final_results['propensity_to_convert(%)'] = y_hat_prob \n",
        "\n",
        "final_results['propensity_to_convert(%)'] = final_results[\"propensity_to_convert(%)\"]*100\n",
        "\n",
        "final_results['propensity_to_convert(%)'] = final_results[\"propensity_to_convert(%)\"].round(2)\n",
        "\n",
        "final_results['customerID'] = test_id\n",
        "\n",
        "final_results['Churn'] = target\n",
        "\n",
        "final_results = final_results[['customerID', 'Churn', 'predictions', 'propensity_to_convert(%)']]\n",
        "\n",
        "final_results ['Ranking'] = pd.qcut(final_results['propensity_to_convert(%)'].rank(method = 'first'),10,labels=range(10,0,-1))"
      ],
      "execution_count": 47,
      "outputs": []
    },
    {
      "cell_type": "code",
      "metadata": {
        "id": "KcrekP5QB8t7",
        "colab": {
          "base_uri": "https://localhost:8080/",
          "height": 509
        },
        "outputId": "c03fc11a-ea2e-4f36-b963-160809dcabdc"
      },
      "source": [
        "final_results = final_results.sort_values(by=['Ranking'], ascending=False)\n",
        "final_results.head(15)"
      ],
      "execution_count": 48,
      "outputs": [
        {
          "output_type": "execute_result",
          "data": {
            "text/html": [
              "<div>\n",
              "<style scoped>\n",
              "    .dataframe tbody tr th:only-of-type {\n",
              "        vertical-align: middle;\n",
              "    }\n",
              "\n",
              "    .dataframe tbody tr th {\n",
              "        vertical-align: top;\n",
              "    }\n",
              "\n",
              "    .dataframe thead th {\n",
              "        text-align: right;\n",
              "    }\n",
              "</style>\n",
              "<table border=\"1\" class=\"dataframe\">\n",
              "  <thead>\n",
              "    <tr style=\"text-align: right;\">\n",
              "      <th></th>\n",
              "      <th>customerID</th>\n",
              "      <th>Churn</th>\n",
              "      <th>predictions</th>\n",
              "      <th>propensity_to_convert(%)</th>\n",
              "      <th>Ranking</th>\n",
              "    </tr>\n",
              "  </thead>\n",
              "  <tbody>\n",
              "    <tr>\n",
              "      <th>2246</th>\n",
              "      <td>7181-BQYBV</td>\n",
              "      <td>1</td>\n",
              "      <td>1</td>\n",
              "      <td>71.20</td>\n",
              "      <td>1</td>\n",
              "    </tr>\n",
              "    <tr>\n",
              "      <th>3431</th>\n",
              "      <td>2430-USGXP</td>\n",
              "      <td>1</td>\n",
              "      <td>1</td>\n",
              "      <td>67.64</td>\n",
              "      <td>1</td>\n",
              "    </tr>\n",
              "    <tr>\n",
              "      <th>4640</th>\n",
              "      <td>1853-UDXBW</td>\n",
              "      <td>1</td>\n",
              "      <td>1</td>\n",
              "      <td>66.96</td>\n",
              "      <td>1</td>\n",
              "    </tr>\n",
              "    <tr>\n",
              "      <th>6816</th>\n",
              "      <td>2446-PLQVO</td>\n",
              "      <td>1</td>\n",
              "      <td>1</td>\n",
              "      <td>70.21</td>\n",
              "      <td>1</td>\n",
              "    </tr>\n",
              "    <tr>\n",
              "      <th>80</th>\n",
              "      <td>5919-TMRGD</td>\n",
              "      <td>1</td>\n",
              "      <td>1</td>\n",
              "      <td>73.13</td>\n",
              "      <td>1</td>\n",
              "    </tr>\n",
              "    <tr>\n",
              "      <th>1423</th>\n",
              "      <td>0680-DFNNY</td>\n",
              "      <td>1</td>\n",
              "      <td>1</td>\n",
              "      <td>72.55</td>\n",
              "      <td>1</td>\n",
              "    </tr>\n",
              "    <tr>\n",
              "      <th>6837</th>\n",
              "      <td>6229-LSCKB</td>\n",
              "      <td>0</td>\n",
              "      <td>1</td>\n",
              "      <td>75.39</td>\n",
              "      <td>1</td>\n",
              "    </tr>\n",
              "    <tr>\n",
              "      <th>5159</th>\n",
              "      <td>5928-QLDHB</td>\n",
              "      <td>0</td>\n",
              "      <td>1</td>\n",
              "      <td>68.86</td>\n",
              "      <td>1</td>\n",
              "    </tr>\n",
              "    <tr>\n",
              "      <th>505</th>\n",
              "      <td>5609-CEBID</td>\n",
              "      <td>1</td>\n",
              "      <td>1</td>\n",
              "      <td>68.23</td>\n",
              "      <td>1</td>\n",
              "    </tr>\n",
              "    <tr>\n",
              "      <th>3510</th>\n",
              "      <td>3199-XGZCY</td>\n",
              "      <td>0</td>\n",
              "      <td>1</td>\n",
              "      <td>71.66</td>\n",
              "      <td>1</td>\n",
              "    </tr>\n",
              "    <tr>\n",
              "      <th>639</th>\n",
              "      <td>0195-IESCP</td>\n",
              "      <td>1</td>\n",
              "      <td>1</td>\n",
              "      <td>72.52</td>\n",
              "      <td>1</td>\n",
              "    </tr>\n",
              "    <tr>\n",
              "      <th>5997</th>\n",
              "      <td>3462-BJQQA</td>\n",
              "      <td>0</td>\n",
              "      <td>1</td>\n",
              "      <td>73.50</td>\n",
              "      <td>1</td>\n",
              "    </tr>\n",
              "    <tr>\n",
              "      <th>3104</th>\n",
              "      <td>6860-YRJZP</td>\n",
              "      <td>0</td>\n",
              "      <td>1</td>\n",
              "      <td>74.62</td>\n",
              "      <td>1</td>\n",
              "    </tr>\n",
              "    <tr>\n",
              "      <th>672</th>\n",
              "      <td>3276-HDUEG</td>\n",
              "      <td>1</td>\n",
              "      <td>1</td>\n",
              "      <td>69.18</td>\n",
              "      <td>1</td>\n",
              "    </tr>\n",
              "    <tr>\n",
              "      <th>6811</th>\n",
              "      <td>8992-JQYUN</td>\n",
              "      <td>1</td>\n",
              "      <td>1</td>\n",
              "      <td>73.01</td>\n",
              "      <td>1</td>\n",
              "    </tr>\n",
              "  </tbody>\n",
              "</table>\n",
              "</div>"
            ],
            "text/plain": [
              "      customerID  Churn  predictions  propensity_to_convert(%) Ranking\n",
              "2246  7181-BQYBV      1            1                     71.20       1\n",
              "3431  2430-USGXP      1            1                     67.64       1\n",
              "4640  1853-UDXBW      1            1                     66.96       1\n",
              "6816  2446-PLQVO      1            1                     70.21       1\n",
              "80    5919-TMRGD      1            1                     73.13       1\n",
              "1423  0680-DFNNY      1            1                     72.55       1\n",
              "6837  6229-LSCKB      0            1                     75.39       1\n",
              "5159  5928-QLDHB      0            1                     68.86       1\n",
              "505   5609-CEBID      1            1                     68.23       1\n",
              "3510  3199-XGZCY      0            1                     71.66       1\n",
              "639   0195-IESCP      1            1                     72.52       1\n",
              "5997  3462-BJQQA      0            1                     73.50       1\n",
              "3104  6860-YRJZP      0            1                     74.62       1\n",
              "672   3276-HDUEG      1            1                     69.18       1\n",
              "6811  8992-JQYUN      1            1                     73.01       1"
            ]
          },
          "metadata": {
            "tags": []
          },
          "execution_count": 48
        }
      ]
    },
    {
      "cell_type": "code",
      "metadata": {
        "id": "sMPpnbn2DrIV",
        "colab": {
          "base_uri": "https://localhost:8080/",
          "height": 355
        },
        "outputId": "473b4849-8aed-4a88-cc83-62a17ac0bf0c"
      },
      "source": [
        "final_results.tail(10)"
      ],
      "execution_count": 49,
      "outputs": [
        {
          "output_type": "execute_result",
          "data": {
            "text/html": [
              "<div>\n",
              "<style scoped>\n",
              "    .dataframe tbody tr th:only-of-type {\n",
              "        vertical-align: middle;\n",
              "    }\n",
              "\n",
              "    .dataframe tbody tr th {\n",
              "        vertical-align: top;\n",
              "    }\n",
              "\n",
              "    .dataframe thead th {\n",
              "        text-align: right;\n",
              "    }\n",
              "</style>\n",
              "<table border=\"1\" class=\"dataframe\">\n",
              "  <thead>\n",
              "    <tr style=\"text-align: right;\">\n",
              "      <th></th>\n",
              "      <th>customerID</th>\n",
              "      <th>Churn</th>\n",
              "      <th>predictions</th>\n",
              "      <th>propensity_to_convert(%)</th>\n",
              "      <th>Ranking</th>\n",
              "    </tr>\n",
              "  </thead>\n",
              "  <tbody>\n",
              "    <tr>\n",
              "      <th>984</th>\n",
              "      <td>8165-ZJRNM</td>\n",
              "      <td>0</td>\n",
              "      <td>0</td>\n",
              "      <td>0.22</td>\n",
              "      <td>10</td>\n",
              "    </tr>\n",
              "    <tr>\n",
              "      <th>981</th>\n",
              "      <td>1106-HRLKZ</td>\n",
              "      <td>0</td>\n",
              "      <td>0</td>\n",
              "      <td>0.71</td>\n",
              "      <td>10</td>\n",
              "    </tr>\n",
              "    <tr>\n",
              "      <th>5671</th>\n",
              "      <td>6370-ZVHDV</td>\n",
              "      <td>0</td>\n",
              "      <td>0</td>\n",
              "      <td>0.44</td>\n",
              "      <td>10</td>\n",
              "    </tr>\n",
              "    <tr>\n",
              "      <th>5740</th>\n",
              "      <td>8882-TLVRW</td>\n",
              "      <td>0</td>\n",
              "      <td>0</td>\n",
              "      <td>0.42</td>\n",
              "      <td>10</td>\n",
              "    </tr>\n",
              "    <tr>\n",
              "      <th>3176</th>\n",
              "      <td>5044-XDPYX</td>\n",
              "      <td>0</td>\n",
              "      <td>0</td>\n",
              "      <td>0.67</td>\n",
              "      <td>10</td>\n",
              "    </tr>\n",
              "    <tr>\n",
              "      <th>531</th>\n",
              "      <td>1403-GYAFU</td>\n",
              "      <td>0</td>\n",
              "      <td>0</td>\n",
              "      <td>0.14</td>\n",
              "      <td>10</td>\n",
              "    </tr>\n",
              "    <tr>\n",
              "      <th>266</th>\n",
              "      <td>6292-TOSSS</td>\n",
              "      <td>0</td>\n",
              "      <td>0</td>\n",
              "      <td>0.71</td>\n",
              "      <td>10</td>\n",
              "    </tr>\n",
              "    <tr>\n",
              "      <th>221</th>\n",
              "      <td>4443-EMBNA</td>\n",
              "      <td>0</td>\n",
              "      <td>0</td>\n",
              "      <td>0.28</td>\n",
              "      <td>10</td>\n",
              "    </tr>\n",
              "    <tr>\n",
              "      <th>6736</th>\n",
              "      <td>7558-IMLMT</td>\n",
              "      <td>0</td>\n",
              "      <td>0</td>\n",
              "      <td>0.25</td>\n",
              "      <td>10</td>\n",
              "    </tr>\n",
              "    <tr>\n",
              "      <th>5314</th>\n",
              "      <td>2535-PBCGC</td>\n",
              "      <td>0</td>\n",
              "      <td>0</td>\n",
              "      <td>1.04</td>\n",
              "      <td>10</td>\n",
              "    </tr>\n",
              "  </tbody>\n",
              "</table>\n",
              "</div>"
            ],
            "text/plain": [
              "      customerID  Churn  predictions  propensity_to_convert(%) Ranking\n",
              "984   8165-ZJRNM      0            0                      0.22      10\n",
              "981   1106-HRLKZ      0            0                      0.71      10\n",
              "5671  6370-ZVHDV      0            0                      0.44      10\n",
              "5740  8882-TLVRW      0            0                      0.42      10\n",
              "3176  5044-XDPYX      0            0                      0.67      10\n",
              "531   1403-GYAFU      0            0                      0.14      10\n",
              "266   6292-TOSSS      0            0                      0.71      10\n",
              "221   4443-EMBNA      0            0                      0.28      10\n",
              "6736  7558-IMLMT      0            0                      0.25      10\n",
              "5314  2535-PBCGC      0            0                      1.04      10"
            ]
          },
          "metadata": {
            "tags": []
          },
          "execution_count": 49
        }
      ]
    },
    {
      "cell_type": "markdown",
      "metadata": {
        "id": "rNUFfzWVhgCy"
      },
      "source": [
        "## **Conclusions**"
      ]
    },
    {
      "cell_type": "markdown",
      "metadata": {
        "id": "n6oXrdLWhmSZ"
      },
      "source": [
        "Our Exploratory Data Analysis (EDA) brought us real insights into the profile of the customer most likely to remain in the company's services and also the profile of the customer who is most likely to churn.\n",
        "\n",
        "customer profile likely to remain in the company:\n",
        "\n",
        "* two-year contract;\n",
        "* DSL Internet service;\n",
        "* do not opt ​​for internet service or multiple lines;\n",
        "\n",
        "Customer profile more likely to churn:\n",
        "\n",
        "* opt for monthly contracts;\n",
        "* optical fiber;\n",
        "* electronic checks;\n",
        "* subscribe to the streaming service on TV\n",
        "\n",
        "From these observations, the company's marketing team would organize a marketing campaign offering the company's customers some offer that contains the plans of the customer's profile likely to stay in the company.\n",
        "\n",
        "In addition to the observations made at the EDA, our model also predicts, with a reasonable accuracy score of 84%, the likelihood of a certain customer converting the class they are in. e.g.: a customer who is prone to abandoning the company's services has a 65% chance of becoming a potential customer to remain hiring the company's services. This helps the marketing team to know which customers to focus their campaign on."
      ]
    },
    {
      "cell_type": "markdown",
      "metadata": {
        "id": "_c8Ad5-Klxn9"
      },
      "source": [
        "## **Thank You!**\n",
        "[![](https://img.shields.io/badge/contributions-welcome-green.svg)](https://github.com/marianatmatos/data_science/issues)\n",
        "[![](https://img.shields.io/badge/Medium-marianatmatos-blueviolet)](https://marianatmatos.medium.com/)\n",
        "[![](https://img.shields.io/badge/linkedIn-marianatmatos-blue)](https://www.linkedin.com/in/mariana-matos-3ba384175/)\n",
        "\n",
        "Thank you for your time and attention. I hope this was an informative and interesting project. If you have any questions or any kind of feedback, feel free to contact me on [LinkedIn](https://www.linkedin.com/in/mariana-matos-3ba384175/), and check out my other projects on [GitHub](https://github.com/marianatmatos).\n",
        "\n"
      ]
    },
    {
      "cell_type": "markdown",
      "metadata": {
        "id": "yhe0JcB-0n97"
      },
      "source": [
        "## References\n",
        "\n",
        "[Predict Customer Churn](https://towardsdatascience.com/predict-customer-churn-in-python-e8cd6d3aaa7)\n",
        "\n",
        "[Plot Graphs with %](https://stackoverflow.com/questions/35692781/python-plotting-percentage-in-seaborn-bar-plot)\n",
        "\n",
        "[Multicollinearity](https://www.analyticsvidhya.com/blog/2020/03/what-is-multicollinearity/)\n",
        "\n",
        "[sklearn](https://scikit-learn.org/stable/modules/preprocessing.html)\n",
        "\n",
        "[Hyperparameters](https://machinelearningmastery.com/hyperparameters-for-classification-machine-learning-algorithms/)\n",
        "\n",
        "[Feature Importance](https://machinelearningmastery.com/calculate-feature-importance-with-python/)"
      ]
    }
  ]
}